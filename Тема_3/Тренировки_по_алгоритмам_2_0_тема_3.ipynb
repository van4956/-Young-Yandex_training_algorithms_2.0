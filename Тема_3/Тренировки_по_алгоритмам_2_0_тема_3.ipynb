{
  "nbformat": 4,
  "nbformat_minor": 0,
  "metadata": {
    "colab": {
      "name": "Тренировки по алгоритмам 2.0 тема 3.ipynb",
      "provenance": [],
      "toc_visible": true
    },
    "kernelspec": {
      "name": "python3",
      "display_name": "Python 3"
    },
    "language_info": {
      "name": "python"
    }
  },
  "cells": [
    {
      "cell_type": "code",
      "metadata": {
        "id": "MRQJgabA7aTe"
      },
      "source": [
        ""
      ],
      "execution_count": null,
      "outputs": []
    },
    {
      "cell_type": "markdown",
      "metadata": {
        "id": "J_qgVZmIQhvx"
      },
      "source": [
        "## Тема 3"
      ]
    },
    {
      "cell_type": "markdown",
      "metadata": {
        "id": "-3df4suuQlnM"
      },
      "source": [
        "### Задача A. Количество совпадающих"
      ]
    },
    {
      "cell_type": "markdown",
      "metadata": {
        "id": "xFJeBprhQozF"
      },
      "source": [
        "Даны два списка чисел, которые могут содержать до 100.000 чисел каждый. Посчитайте, сколько чисел содержится одновременно как в первом списке, так и во втором.   \n",
        "**Примечание.**  \n",
        "Эту задачу на Питоне можно решить в одну строчку.\n",
        "\n",
        "**Формат ввода**  \n",
        "Вводятся два списка чисел. Все числа каждого списка находятся на отдельной строке.\n",
        "  \n",
        "**Формат вывода**  \n",
        "Выведите ответ на задачу."
      ]
    },
    {
      "cell_type": "markdown",
      "metadata": {
        "id": "9GIH1SwNQpB8"
      },
      "source": [
        "**Пример 1**  \n",
        "Ввод\t\n",
        "1 3 2  \n",
        "4 3 2  \n",
        "Вывод  \n",
        "2  \n",
        "\n",
        "**Пример 2**  \n",
        "Ввод\t\n",
        "1 2 6 4 5 7  \n",
        "10 2 3 4 8  \n",
        "Вывод  \n",
        "2"
      ]
    },
    {
      "cell_type": "code",
      "metadata": {
        "colab": {
          "base_uri": "https://localhost:8080/"
        },
        "id": "RJGXLk--QpN7",
        "outputId": "ff7099df-c5eb-4275-f0fa-aaa7ae3efbe4"
      },
      "source": [
        "a = [int(i) for i in input().split()]\n",
        "b = [int(i) for i in input().split()]\n",
        "\n",
        "sa = set(a)\n",
        "sb = set(b)\n",
        "count = len(sa & sb)\n",
        "\n",
        "print(count)"
      ],
      "execution_count": null,
      "outputs": [
        {
          "output_type": "stream",
          "name": "stdout",
          "text": [
            "1 2 6 4 5 7\n",
            "10 2 3 4 8\n",
            "2\n"
          ]
        }
      ]
    },
    {
      "cell_type": "code",
      "metadata": {
        "colab": {
          "base_uri": "https://localhost:8080/"
        },
        "id": "86Ym63foQpQc",
        "outputId": "6c8763b0-c38f-458e-980b-93b2e71db170"
      },
      "source": [
        "# в одну строчку\n",
        "\n",
        "print(len({int(i) for i in input().split()} & {int(i) for i in input().split()}))"
      ],
      "execution_count": null,
      "outputs": [
        {
          "output_type": "stream",
          "name": "stdout",
          "text": [
            "1 2 6 4 5 7\n",
            "10 2 3 4 8\n",
            "2\n"
          ]
        }
      ]
    },
    {
      "cell_type": "markdown",
      "metadata": {
        "id": "RRWIEPqNQplZ"
      },
      "source": [
        "---"
      ]
    },
    {
      "cell_type": "markdown",
      "metadata": {
        "id": "288V6C7BS31L"
      },
      "source": [
        "### Задача B. Встречалось ли число раньше"
      ]
    },
    {
      "cell_type": "markdown",
      "metadata": {
        "id": "89cuDokeS4H4"
      },
      "source": [
        "Во входной строке записана последовательность чисел через пробел. Для каждого числа выведите слово YES (в отдельной строке), если это число ранее встречалось в последовательности или NO, если не встречалось.\n",
        "\n",
        "**Формат ввода**  \n",
        "Вводится список чисел. Все числа списка находятся на одной строке.\n",
        "\n",
        "**Формат вывода**  \n",
        "Выведите ответ на задачу."
      ]
    },
    {
      "cell_type": "markdown",
      "metadata": {
        "id": "vwyq5sDITCiH"
      },
      "source": [
        "**Пример**  \n",
        "  \n",
        "**`Ввод`**\t \n",
        "1 2 3 2 3 4  \n",
        "  \n",
        "**`Вывод`**  \n",
        "NO  \n",
        "NO  \n",
        "NO  \n",
        "YES  \n",
        "YES  \n",
        "NO  "
      ]
    },
    {
      "cell_type": "code",
      "metadata": {
        "colab": {
          "base_uri": "https://localhost:8080/"
        },
        "id": "MhXTnp5oS6hl",
        "outputId": "d66456c2-2df8-4c26-f1de-766c115b6202"
      },
      "source": [
        "n = [int(i) for i in input().split()]\n",
        "s = set()\n",
        "\n",
        "for i in n:\n",
        "  if i in s:\n",
        "    print('YES')\n",
        "  else:\n",
        "    print('NO')\n",
        "    s.add(i)  "
      ],
      "execution_count": null,
      "outputs": [
        {
          "output_type": "stream",
          "name": "stdout",
          "text": [
            "1 2 3 2 3 4\n",
            "NO\n",
            "NO\n",
            "NO\n",
            "YES\n",
            "YES\n",
            "NO\n"
          ]
        }
      ]
    },
    {
      "cell_type": "markdown",
      "metadata": {
        "id": "EcmoXq0pS65y"
      },
      "source": [
        "---"
      ]
    },
    {
      "cell_type": "markdown",
      "metadata": {
        "id": "MqMU1OMCT6xq"
      },
      "source": [
        "### Задача C. Уникальные элементы"
      ]
    },
    {
      "cell_type": "markdown",
      "metadata": {
        "id": "W_ZJ0YpYT94m"
      },
      "source": [
        "Дан список. Выведите те его элементы, которые встречаются в списке только один раз. Элементы нужно выводить в том порядке, в котором они встречаются в списке.\n",
        "\n",
        "**Формат ввода**  \n",
        "Вводится список чисел. Все числа списка находятся на одной строке.\n",
        "\n",
        "**Формат вывода**  \n",
        "Выведите ответ на задачу.\n",
        "\n",
        "**Пример 1**  \n",
        "Ввод\t\n",
        "1 2 2 3 3 3  \n",
        "Вывод  \n",
        "1 \n"
      ]
    },
    {
      "cell_type": "code",
      "metadata": {
        "colab": {
          "base_uri": "https://localhost:8080/"
        },
        "id": "OfgBP27ZUGMP",
        "outputId": "68585b7a-fcdd-4dcc-fdad-c97da3c2da70"
      },
      "source": [
        "n = [int(i) for i in input().split()]\n",
        "s = set(n)\n",
        "\n",
        "for i in n:\n",
        "  if i in s:\n",
        "    if n.count(i) == 1:\n",
        "      print(i,end=' ')\n",
        "    elif n.count(i) > 1:\n",
        "      s.add(i)  "
      ],
      "execution_count": null,
      "outputs": [
        {
          "output_type": "stream",
          "name": "stdout",
          "text": [
            "4 3 5 2 5 1 3 5\n",
            "4 2 1 "
          ]
        }
      ]
    },
    {
      "cell_type": "code",
      "metadata": {
        "id": "BMRP0pZYUGOu"
      },
      "source": [
        "1 2 3 2 3 7 3 3 4 5 5"
      ],
      "execution_count": null,
      "outputs": []
    },
    {
      "cell_type": "markdown",
      "metadata": {
        "id": "WrPA9xTzUGdb"
      },
      "source": [
        "---"
      ]
    },
    {
      "cell_type": "markdown",
      "metadata": {
        "id": "2Y7DZQqmWSKm"
      },
      "source": [
        "### Задача D. Угадай число"
      ]
    },
    {
      "cell_type": "markdown",
      "metadata": {
        "id": "Qe66pbq2WTmk"
      },
      "source": [
        "Август и Беатриса играют в игру. Август загадал натуральное число от 1 до n. Беатриса пытается угадать это число, для этого она называет некоторые множества натуральных чисел. Август отвечает Беатрисе YES, если среди названных ей чисел есть задуманное или NO в противном случае. После нескольких заданных вопросов Беатриса запуталась в том, какие вопросы она задавала и какие ответы получила и просит вас помочь ей определить, какие числа мог задумать Август.\n",
        "\n",
        "**Формат ввода**  \n",
        "Первая строка входных данных содержит число n — наибольшее число, которое мог загадать Август. Далее идут строки, содержащие вопросы Беатрисы. Каждая строка представляет собой набор чисел, разделенных пробелами. После каждой строки с вопросом идет ответ Августа: YES или NO. Наконец, последняя строка входных данных содержит одно слово HELP.\n",
        "\n",
        "**Формат вывода**  \n",
        "Вы должны вывести (через пробел, в порядке возрастания) все числа, которые мог задумать Август."
      ]
    },
    {
      "cell_type": "markdown",
      "metadata": {
        "id": "xMnAFGI8Wbq2"
      },
      "source": [
        "**Пример 1**  \n",
        "  \n",
        "**`Ввод`**\t \n",
        "10  \n",
        "1 2 3 4 5  \n",
        "YES  \n",
        "2 4 6 8 10  \n",
        "NO  \n",
        "HELP  \n",
        "  \n",
        "**`Вывод`**  \n",
        "1 3 5"
      ]
    },
    {
      "cell_type": "code",
      "metadata": {
        "colab": {
          "base_uri": "https://localhost:8080/"
        },
        "id": "WD8JxygmWjzR",
        "outputId": "6da74b7d-7dcc-4c68-b687-9a64cfd91dcb"
      },
      "source": [
        "n = int(input())\n",
        "set_avg = {i for i in range(1, n+1)}\n",
        "help = False\n",
        "\n",
        "while not help:\n",
        "  work = input()\n",
        "  if work == 'HELP':\n",
        "    help = True\n",
        "    break\n",
        "  else:  \n",
        "    set_beat = {int(i) for i in work.split()}\n",
        "    ans = input()\n",
        "    if ans == 'NO':\n",
        "      set_avg = set_avg - set_beat\n",
        "    elif ans == 'YES':\n",
        "      set_avg = set_avg & set_beat \n",
        "\n",
        "set_avg = list(set_avg)\n",
        "print(sorted(set_avg))    \n"
      ],
      "execution_count": null,
      "outputs": [
        {
          "output_type": "stream",
          "name": "stdout",
          "text": [
            "5\n",
            "1 2 3 4 5\n",
            "YES\n",
            "4 5\n",
            "NO\n",
            "7 6 5 4\n",
            "NO\n",
            "7 6 5 4 3\n",
            "NO\n",
            "0 1 9 11 12 -5\n",
            "YES\n",
            "HELP\n",
            "1\n"
          ]
        }
      ]
    },
    {
      "cell_type": "code",
      "metadata": {
        "colab": {
          "base_uri": "https://localhost:8080/"
        },
        "id": "etvqxXTALHFf",
        "outputId": "f8ef46fd-9234-40de-f99e-51b1624667ff"
      },
      "source": [
        "# более оптимальоне решение \n",
        "\n",
        "n = int(input())\n",
        "set_avg = {i for i in range(1, n+1)}\n",
        "\n",
        "work = input().strip()\n",
        "while work != 'HELP':\n",
        "  nums = set(map(int, work.split()))\n",
        "  work = input().strip()\n",
        "  if work == 'YES':\n",
        "    set_avg.intersection_update(nums)\n",
        "  elif work == 'NO':  \n",
        "    set_avg.difference_update(nums)\n",
        "  work = input().strip()\n",
        "\n",
        "print(*sorted(set_avg))\n"
      ],
      "execution_count": null,
      "outputs": [
        {
          "output_type": "stream",
          "name": "stdout",
          "text": [
            "10\n",
            "1 2 3 4 5\n",
            "YES\n",
            "2 4 6 8 10\n",
            "NO\n",
            "HELP\n",
            "1 3 5\n"
          ]
        }
      ]
    },
    {
      "cell_type": "code",
      "metadata": {
        "id": "O4mfdGO_L0Xx"
      },
      "source": [
        "Ввод\n",
        "10\n",
        "1 2 3 4 5\n",
        "YES\n",
        "2 4 6 8 10\n",
        "NO\n",
        "HELP\n",
        "\n",
        "Вывод\n",
        "1 3 5"
      ],
      "execution_count": null,
      "outputs": []
    },
    {
      "cell_type": "markdown",
      "metadata": {
        "id": "MO7hoWctWkCZ"
      },
      "source": [
        "---"
      ]
    },
    {
      "cell_type": "markdown",
      "metadata": {
        "id": "4FOFsdadKOCM"
      },
      "source": [
        "### Задача E. Автомобильные номера"
      ]
    },
    {
      "cell_type": "markdown",
      "metadata": {
        "id": "43Px5vaZKV2z"
      },
      "source": [
        "Неизвестный водитель совершил ДТП и скрылся с места происшествия. Полиция опрашивает свидетелей. Каждый из них говорит, что запомнил какие-то буквы и цифры номера. Но при этом свидетели не помнят порядок этих цифр и букв. Полиция хочет проверить несколько подозреваемых автомобилей. Будем говорить, что номер согласуется с показанием свидетеля, если все символы, которые назвал свидетель, присутствуют в этом номере (не важно, сколько раз)."
      ]
    },
    {
      "cell_type": "markdown",
      "metadata": {
        "id": "ljSLIlnBKXhN"
      },
      "source": [
        "**Формат ввода**  \n",
        "Сначала задано число  **M <= 100** - количество свидетелей. Далее идет M строк, каждая из которых описывает показания очередного свидетеля. Эти строки непустые и состоят из не более чем 20 символов. Каждый символ в строке - либо цифра, либо заглавная латинская буква, причём символы могут повторяться.  \n",
        "Затем идёт число **N <= 1000** - количество номеров. Следующие строки представляют из себя номера подозреваемых машин и имеют такой же формат, как и показания свидетелей.\n",
        "\n",
        "**Формат вывода**  \n",
        "Выпишите номера автомобилей, согласующиеся с максимальным количеством свидетелей. Если таких номеров несколько, то выведите их в том же порядке, в котором они были заданы на входе."
      ]
    },
    {
      "cell_type": "markdown",
      "metadata": {
        "id": "A3cF95_fOF0S"
      },
      "source": [
        "**Пример 1**  \n",
        "  \n",
        "**`Ввод`**\t\n",
        "3  \n",
        "ABC  \n",
        "A37  \n",
        "BCDA  \n",
        "2  \n",
        "A317BD  \n",
        "B137AC  \n",
        "  \n",
        "**`Вывод`**  \n",
        "B137AC  "
      ]
    },
    {
      "cell_type": "code",
      "metadata": {
        "colab": {
          "base_uri": "https://localhost:8080/"
        },
        "id": "2RDykdtXNhZl",
        "outputId": "0320edd4-deba-489e-923a-f56c9eb8980c"
      },
      "source": [
        "m = int(input())\n",
        "wits = []\n",
        "for _ in range(m):\n",
        "  wits.append(set(input().strip()))\n",
        "\n",
        "n = int(input())\n",
        "nums = []\n",
        "maxwitcnt = 0\n",
        "for _ in range(n):\n",
        "  num = input().strip()\n",
        "  numset = set(num)  \n",
        "  witcnt = 0\n",
        "  for wit in wits:\n",
        "    if wit <= numset:\n",
        "      witcnt += 1\n",
        "  nums.append([num, witcnt])\n",
        "  maxwitcnt = max(maxwitcnt, witcnt)\n",
        "\n",
        "ans = []\n",
        "for num in nums:\n",
        "  if num[1] == maxwitcnt:\n",
        "    ans.append(num[0])\n",
        "\n",
        "print()\n",
        "print('\\n'.join(ans))    \n"
      ],
      "execution_count": null,
      "outputs": [
        {
          "output_type": "stream",
          "name": "stdout",
          "text": [
            "3\n",
            "ABC\n",
            "A37\n",
            "BCDA\n",
            "2\n",
            "A317BD\n",
            "B137AC\n",
            "\n",
            "B137AC\n"
          ]
        }
      ]
    },
    {
      "cell_type": "markdown",
      "metadata": {
        "id": "Ub4jYPOXK9Oc"
      },
      "source": [
        "---"
      ]
    }
  ]
}