{
  "nbformat": 4,
  "nbformat_minor": 0,
  "metadata": {
    "colab": {
      "name": "Тренировки по алгоритмам 2.0 тема 6.ipynb",
      "provenance": [],
      "toc_visible": true
    },
    "kernelspec": {
      "name": "python3",
      "display_name": "Python 3"
    },
    "language_info": {
      "name": "python"
    }
  },
  "cells": [
    {
      "cell_type": "markdown",
      "metadata": {
        "id": "yxuCo5MLucHT"
      },
      "source": [
        "## Тема 6"
      ]
    },
    {
      "cell_type": "markdown",
      "metadata": {
        "id": "XX5QwZZHud0-"
      },
      "source": [
        "### Задача A. Быстрый поиск в массиве"
      ]
    },
    {
      "cell_type": "markdown",
      "metadata": {
        "id": "Ls1YYnLA5tMW"
      },
      "source": [
        "Дан массив из \n",
        "**N**\n",
        " целых чисел. Все числа от \n",
        "−\n",
        "1\n",
        "0\n",
        "*`9`*\n",
        " до \n",
        "1\n",
        "0\n",
        "*`9`*\n",
        ".\n",
        "Нужно уметь отвечать на запросы вида “Cколько чисел имеют значения от\n",
        "**L**\n",
        " до\n",
        "**R**\n",
        "?”."
      ]
    },
    {
      "cell_type": "markdown",
      "metadata": {
        "id": "7C5bsDj952SY"
      },
      "source": [
        "**Формат ввода**  \n",
        "Число \n",
        "**N**\n",
        " (\n",
        "1\n",
        "≤\n",
        "N\n",
        "≤\n",
        "1\n",
        "0\n",
        "*`5`*\n",
        ").  \n",
        "Далее \n",
        "**N**\n",
        " целых чисел.  \n",
        "Затем число запросов \n",
        "**K**\n",
        " (\n",
        "1\n",
        "≤\n",
        "K\n",
        "≤\n",
        "1\n",
        "0\n",
        "*`5`*\n",
        ").  \n",
        "Далее \n",
        "**K**\n",
        " пар чисел \n",
        "**L**\n",
        ",\n",
        "**R**\n",
        " (\n",
        "−\n",
        "1\n",
        "0\n",
        "*`9`*\n",
        "≤\n",
        "L\n",
        "≤\n",
        "R\n",
        "≤\n",
        "1\n",
        "0\n",
        "*`9`*\n",
        ") — собственно запросы."
      ]
    },
    {
      "cell_type": "markdown",
      "metadata": {
        "id": "HJ59QZ7r6I6P"
      },
      "source": [
        "**Формат вывода**  \n",
        "Выведите \n",
        "**K** \n",
        " чисел — ответы на запросы."
      ]
    },
    {
      "cell_type": "markdown",
      "metadata": {
        "id": "pfBRg2UV6S44"
      },
      "source": [
        "**Пример**  \n",
        "**`Ввод`**\t\n",
        "5  \n",
        "10 1 10 3 4  \n",
        "4  \n",
        "1 10  \n",
        "2 9  \n",
        "3 4  \n",
        "2 2  \n",
        "\n",
        "**`Вывод`**  \n",
        "5 2 2 0   "
      ]
    },
    {
      "cell_type": "markdown",
      "metadata": {
        "id": "Bfyv_7tsF20Y"
      },
      "source": [
        "Решение за **O(N^2)**"
      ]
    },
    {
      "cell_type": "code",
      "metadata": {
        "id": "T94GKs8muek-",
        "colab": {
          "base_uri": "https://localhost:8080/"
        },
        "outputId": "6d7aa125-b349-4f58-8bb4-53647f2bfbf3"
      },
      "source": [
        "n = int(input())\n",
        "m = list(map(int, input().split()))\n",
        "\n",
        "k = int(input())\n",
        "ans = []\n",
        "for _ in range(k):\n",
        "  l, r = list(map(int, input().split()))\n",
        "  cnt = 0\n",
        "  for i in m:\n",
        "    if l <= i <= r:\n",
        "      cnt += 1\n",
        "  ans.append(cnt) \n",
        "\n",
        "print()\n",
        "print(*ans)     \n"
      ],
      "execution_count": null,
      "outputs": [
        {
          "output_type": "stream",
          "name": "stdout",
          "text": [
            "5\n",
            "10 1 10 3 4\n",
            "4\n",
            "1 10\n",
            "2 9\n",
            "3 4\n",
            "2 2\n",
            "\n",
            "5 2 2 0\n"
          ]
        }
      ]
    },
    {
      "cell_type": "markdown",
      "metadata": {
        "id": "p5ymaFHYL8z6"
      },
      "source": [
        "Решение за **O(logN)**"
      ]
    },
    {
      "cell_type": "code",
      "metadata": {
        "id": "HjIRYQFpL3it"
      },
      "source": [
        "def l_bin_search(left, right, check, check_params):\n",
        "\n",
        "    while left < right:\n",
        "        m = (left + right) // 2\n",
        "        if check(m, check_params):\n",
        "            right = m\n",
        "        else:\n",
        "            left = m + 1\n",
        "    return left\n",
        "\n",
        "\n",
        "def r_bin_search(left, right, check, check_params):\n",
        "\n",
        "    while left < right:\n",
        "        m = (left + right + 1) // 2\n",
        "        if check(m, check_params):\n",
        "            left = m\n",
        "        else:\n",
        "            right = m - 1\n",
        "    return left\n",
        "\n",
        "\n",
        "n = int(input())\n",
        "nums = sorted([int(num) for num in input().split()])\n",
        "\n",
        "\n",
        "def check(m, eq):\n",
        "    return nums[m] >= eq\n",
        "\n",
        "\n",
        "def r_check(m, eq):\n",
        "    return nums[m] <= eq\n",
        "\n",
        "\n",
        "check_n = int(input())\n",
        "ans = ['0'] * check_n\n",
        "\n",
        "for i in range(check_n):\n",
        "    l, r = map(int, input().split())\n",
        "    left_i = l_bin_search(0, n - 1, check, l)\n",
        "    right_i = r_bin_search(0, n - 1, r_check, r)\n",
        "    count = right_i - left_i + 1\n",
        "    if (left_i == right_i == 0 and nums[0] > r) or (left_i == right_i == (n - 1) and nums[n-1] < l):\n",
        "        ans[i] = '0'\n",
        "    else:\n",
        "        ans[i] = str(count)\n",
        "\n",
        "print(*ans)"
      ],
      "execution_count": null,
      "outputs": []
    },
    {
      "cell_type": "markdown",
      "metadata": {
        "id": "CN52Uj--Fu23"
      },
      "source": [
        "---"
      ]
    },
    {
      "cell_type": "markdown",
      "metadata": {
        "id": "FcfnJq_AueuW"
      },
      "source": [
        "### Задача B. Номер левого и правого вхождения"
      ]
    },
    {
      "cell_type": "markdown",
      "metadata": {
        "id": "_qDQ3Djc6jtg"
      },
      "source": [
        "Требуется определить в заданном массиве номер самого левого и самого правого элемента, равного искомому числу."
      ]
    },
    {
      "cell_type": "markdown",
      "metadata": {
        "id": "Cp9bvSC36l3L"
      },
      "source": [
        "**Формат ввода**  \n",
        "В первой строке вводится одно натуральное число **N**, не превосходящее 10*`5`*: количество чисел в массиве. Во второй строке вводятся **N** натуральных чисел, не превосходящих 10*`9`*, каждое следующее не меньше предыдущего. В третьей строке вводится количество искомых чисел **M** – натуральное число, не превосходящее 10*`6`*. В четвертой строке вводится **M** натуральных чисел, не превосходящих 10*`9`*."
      ]
    },
    {
      "cell_type": "markdown",
      "metadata": {
        "id": "seMmNa7761Vx"
      },
      "source": [
        "**Формат вывода**  \n",
        "Для каждого запроса выведите в отдельной строке через пробел два числа: номер элемента самого левого и самого правого элементов массива, равных числу-запросу. Элементы массива нумеруются с единицы.Если в массиве нет такого числа, выведите в соответствующей строке два нуля, разделенных пробелом."
      ]
    },
    {
      "cell_type": "markdown",
      "metadata": {
        "id": "yvc4cJmR64JC"
      },
      "source": [
        "**Пример 1**  \n",
        "**`Ввод`**\t\n",
        "4  \n",
        "1 2 2 3  \n",
        "4  \n",
        "4 3 2 1  \n",
        "  \n",
        "**`Вывод`**  \n",
        "0 0  \n",
        "4 4  \n",
        "2 3  \n",
        "1 1  "
      ]
    },
    {
      "cell_type": "code",
      "metadata": {
        "id": "zCaTCncKugbU"
      },
      "source": [
        "def l_bin_search(left, right, check, check_params):\n",
        "\n",
        "    while left < right:\n",
        "        m = (left + right) // 2\n",
        "        if check(m, check_params):\n",
        "            right = m\n",
        "        else:\n",
        "            left = m + 1\n",
        "    return left\n",
        "\n",
        "\n",
        "def r_bin_search(left, right, check, check_params):\n",
        "\n",
        "    while left < right:\n",
        "        m = (left + right + 1) // 2\n",
        "        if check(m, check_params):\n",
        "            left = m\n",
        "        else:\n",
        "            right = m - 1\n",
        "    return left\n",
        "\n",
        "\n",
        "n = int(input())\n",
        "nums = [int(num) for num in input().split()]\n",
        "\n",
        "\n",
        "def check(m, eq):\n",
        "    return nums[m] >= eq\n",
        "\n",
        "\n",
        "def r_check(m, eq):\n",
        "    return nums[m] <= eq\n",
        "\n",
        "\n",
        "search_n = int(input())\n",
        "search_nums = [int(num) for num in input().split()]\n",
        "\n",
        "for i in range(search_n):\n",
        "    num_to_search = search_nums[i]\n",
        "    left_i = l_bin_search(0, n - 1, check, num_to_search)\n",
        "    right_i = r_bin_search(0, n - 1, r_check, num_to_search)\n",
        "\n",
        "    if nums[left_i] != num_to_search:\n",
        "        print(\"0 0\")\n",
        "    else:\n",
        "        print(f'{left_i + 1} {right_i + 1}')"
      ],
      "execution_count": null,
      "outputs": []
    },
    {
      "cell_type": "markdown",
      "metadata": {
        "id": "hTstIyR5g886"
      },
      "source": [
        "---"
      ]
    },
    {
      "cell_type": "markdown",
      "metadata": {
        "id": "8eWm4x4wugk4"
      },
      "source": [
        "### Задача C. Корень кубического уравнения"
      ]
    },
    {
      "cell_type": "markdown",
      "metadata": {
        "id": "Xo4HfNJl7J86"
      },
      "source": [
        "Дано кубическое уравнение ax*`3`*+bx*`2`*+cx+d=0 (a≠0). Известно, что у этого уравнения есть ровно один корень. Требуется его найти."
      ]
    },
    {
      "cell_type": "markdown",
      "metadata": {
        "id": "YPPqu-kG7Tfb"
      },
      "source": [
        "**Формат ввода**  \n",
        "Во входном файле через пробел записаны четыре целых числа:"
      ]
    },
    {
      "cell_type": "markdown",
      "metadata": {
        "id": "juWnrnIE7XNo"
      },
      "source": [
        "![image.png](data:image/png;base64,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)"
      ]
    },
    {
      "cell_type": "markdown",
      "metadata": {
        "id": "iKocf3td7aN4"
      },
      "source": [
        "**Формат вывода**  \n",
        "Выведите единственный корень уравнения с точностью не менее 5 знаков после десятичной точки."
      ]
    },
    {
      "cell_type": "markdown",
      "metadata": {
        "id": "-G2C86Gd7fDU"
      },
      "source": [
        "**Пример 1**  \n",
        "**`Ввод`**\t\n",
        "1 -3 3 -1\n",
        "\n",
        "**`Вывод`**  \n",
        "1.0000036491"
      ]
    },
    {
      "cell_type": "code",
      "metadata": {
        "id": "3EWeP7jzuhtM"
      },
      "source": [
        "def f_bin_search(left, right, eps, check, params):\n",
        "    while left + eps < right:\n",
        "        m = (left + right) / 2\n",
        "        if check(m, eps, params):\n",
        "            right = m\n",
        "        else:\n",
        "            left = m\n",
        "    return left\n",
        "\n",
        "\n",
        "def eq(x, params):\n",
        "    a, b, c, d = params\n",
        "    return a * x**3 + b * x**2 + c * x + d\n",
        "\n",
        "\n",
        "def check_pos(x, eps, params):\n",
        "    return eq(x, params) > 0\n",
        "\n",
        "\n",
        "def check_neg(x, eps, params):\n",
        "    return eq(x, params) < 0\n",
        "\n",
        "\n",
        "parameters = tuple(map(int, input().split()))\n",
        "epsilon = 0.0000001\n",
        "\n",
        "if parameters[0] > 0:\n",
        "    print(f_bin_search(-1000000, 1000000, epsilon, check_pos, parameters))\n",
        "else:\n",
        "    print(f_bin_search(-1000000, 1000000, epsilon, check_neg, parameters))"
      ],
      "execution_count": null,
      "outputs": []
    },
    {
      "cell_type": "markdown",
      "metadata": {
        "id": "tEz6Bdik9d7p"
      },
      "source": [
        "---"
      ]
    },
    {
      "cell_type": "markdown",
      "metadata": {
        "id": "Iq-kKBEeuh2L"
      },
      "source": [
        "### Задача D. Вырубка леса"
      ]
    },
    {
      "cell_type": "markdown",
      "metadata": {
        "id": "eB9PwChq7zH-"
      },
      "source": [
        "Фермер Николай нанял двух лесорубов: Дмитрия и Федора, чтобы вырубить лес, на месте которого должно быть кукурузное поле. В лесу растут X деревьев.\n",
        "\n",
        "Дмитрий срубает по A деревьев в день, но каждый K-й день он отдыхает и не срубает ни одного дерева. Таким образом, Дмитрий отдыхает в K-й, 2K-й, 3K-й день, и т.д.\n",
        "\n",
        "Федор срубает по B деревьев в день, но каждый M-й день он отдыхает и не срубает ни одного дерева. Таким образом, Федор отдыхает в M-й, 2M-й, 3M-й день, и т.д.\n",
        "\n",
        "Лесорубы работают параллельно и, таким образом, в дни, когда никто из них не отдыхает, они срубают A + B деревьев, в дни, когда отдыхает только Федор — A деревьев, а в дни, когда отдыхает только Дмитрий — B деревьев. В дни, когда оба лесоруба отдыхают, ни одно дерево не срубается.\n",
        "\n",
        "Фермер Николай хочет понять, за сколько дней лесорубы срубят все деревья, и он сможет засеять кукурузное поле.\n",
        "\n",
        "Требуется написать программу, которая по заданным целым числам A, K, B, M и X определяет, за сколько дней все деревья в лесу будут вырублены."
      ]
    },
    {
      "cell_type": "markdown",
      "metadata": {
        "id": "Y-Spu-1u70F7"
      },
      "source": [
        "**Формат ввода**  \n",
        "Входной файл содержит пять целых чисел, разделенных пробелами: A, K, B, M и X (1 ≤ A, B ≤ 10*`9`* , 2 ≤ K, M ≤ 10*`18`*, 1 ≤ X ≤ 10*`18`*)."
      ]
    },
    {
      "cell_type": "markdown",
      "metadata": {
        "id": "zcq3QNXb8A_7"
      },
      "source": [
        "**Формат вывода**  \n",
        "Выходной файл должен содержать одно целое число — искомое количество дней."
      ]
    },
    {
      "cell_type": "markdown",
      "metadata": {
        "id": "JqQFKxfW8FMH"
      },
      "source": [
        "**Пример 1**  \n",
        "**`Ввод`**\t\n",
        "1 2 1 3 10\n",
        "\n",
        "**`Вывод`**  \n",
        "8"
      ]
    },
    {
      "cell_type": "code",
      "metadata": {
        "id": "HBjV43f1ukoG"
      },
      "source": [
        "def l_bin_search(left, right, check, check_params):\n",
        "\n",
        "    while left < right:\n",
        "        m = (left + right) // 2\n",
        "        if check(m, check_params):\n",
        "            right = m\n",
        "        else:\n",
        "            left = m + 1\n",
        "    return left\n",
        "\n",
        "\n",
        "a, k, b, m, x = tuple(map(int, input().split()))\n",
        "\n",
        "\n",
        "def trees_cut(days):\n",
        "    return a * (days - days // k) + b * (days - days // m)\n",
        "\n",
        "\n",
        "def check(days, _):\n",
        "    return trees_cut(days) >= x\n",
        "\n",
        "\n",
        "print(l_bin_search(0, x, check, ()))"
      ],
      "execution_count": null,
      "outputs": []
    },
    {
      "cell_type": "markdown",
      "metadata": {
        "id": "0yK-mJSIgiu8"
      },
      "source": [
        "---"
      ]
    },
    {
      "cell_type": "markdown",
      "metadata": {
        "id": "jFC-xHBiukxv"
      },
      "source": [
        "### Задача E. Покрытие K отрезками"
      ]
    },
    {
      "cell_type": "markdown",
      "metadata": {
        "id": "F0-e6bZ78mE4"
      },
      "source": [
        "Даны \n",
        "*n*\n",
        " точек на прямой, нужно покрыть их \n",
        "*k*\n",
        " отрезками одинаковой длины \n",
        "ℓ\n",
        ".\n",
        "Найдите минимальное \n",
        "ℓ\n",
        "."
      ]
    },
    {
      "cell_type": "markdown",
      "metadata": {
        "id": "kDQWXPhR8mMs"
      },
      "source": [
        "**Формат ввода**  "
      ]
    },
    {
      "cell_type": "markdown",
      "metadata": {
        "id": "Fmh3OyUT8wUS"
      },
      "source": [
        "![image.png](data:image/png;base64,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)"
      ]
    },
    {
      "cell_type": "markdown",
      "metadata": {
        "id": "AByVa5FY8y1e"
      },
      "source": [
        "**Формат вывода**  \n",
        "Минимальное такое \n",
        "ℓ\n",
        ", что точки можно покрыть \n",
        "k\n",
        " отрезками длины \n",
        "ℓ\n",
        "."
      ]
    },
    {
      "cell_type": "markdown",
      "metadata": {
        "id": "7EY2p1nT87ip"
      },
      "source": [
        "**Пример**  \n",
        "**`Ввод`**\t\n",
        "6 2  \n",
        "1 2 3 9 8 7  \n",
        "\n",
        "**`Вывод`**  \n",
        "2"
      ]
    },
    {
      "cell_type": "code",
      "metadata": {
        "id": "a9KgQSX_ul-a"
      },
      "source": [
        "def l_bin_search(left, right, check, check_params):\n",
        "    while left < right:\n",
        "        m = (left + right) // 2\n",
        "        if check(m, check_params):\n",
        "            right = m\n",
        "        else:\n",
        "            left = m + 1\n",
        "    return left\n",
        "\n",
        "\n",
        "file = open(\"input.txt\")\n",
        "n, k = map(int, file.readline().split())\n",
        "nums = sorted([int(num) for num in file.readline().split()])\n",
        "file.close()\n",
        "\n",
        "min_num = nums[0] - 1\n",
        "nums = [num - min_num for num in nums]\n",
        "\n",
        "\n",
        "def check(l_num, _):\n",
        "    count = 1\n",
        "    cur_start = nums[0]\n",
        "    for num in nums:\n",
        "        if (num - cur_start) > l_num:\n",
        "            cur_start = num\n",
        "            count += 1\n",
        "            if count > k:\n",
        "                return False\n",
        "    return count <= k\n",
        "\n",
        "\n",
        "print(l_bin_search(0, nums[-1], check, ()))"
      ],
      "execution_count": null,
      "outputs": []
    }
  ]
}