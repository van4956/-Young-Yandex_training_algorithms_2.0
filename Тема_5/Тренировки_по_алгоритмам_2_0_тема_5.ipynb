{
  "nbformat": 4,
  "nbformat_minor": 0,
  "metadata": {
    "colab": {
      "name": "Тренировки по алгоритмам 2.0 тема 5.ipynb",
      "provenance": [],
      "toc_visible": true
    },
    "kernelspec": {
      "name": "python3",
      "display_name": "Python 3"
    },
    "language_info": {
      "name": "python"
    }
  },
  "cells": [
    {
      "cell_type": "markdown",
      "metadata": {
        "id": "VTsAnyqQSy05"
      },
      "source": [
        "## Тема 5"
      ]
    },
    {
      "cell_type": "markdown",
      "metadata": {
        "id": "fCxUYYpShxS3"
      },
      "source": [
        "### Задача A. Префиксные суммы"
      ]
    },
    {
      "cell_type": "markdown",
      "metadata": {
        "id": "aUnHKGR9hxS4"
      },
      "source": [
        "В этой задаче вам нужно будет много раз отвечать на запрос «Найдите сумму чисел на отрезке в массиве».  \n",
        "\n",
        "**Формат ввода**  \n",
        "В первой строке записано два целых числа \n",
        "**n**\n",
        " и \n",
        "**q**\n",
        " (\n",
        "1\n",
        "≤\n",
        "n\n",
        ",\n",
        "q\n",
        "≤\n",
        "3\n",
        "⋅\n",
        "1\n",
        "0\n",
        "*`5`*\n",
        ") - размер массива и количество запросов.  \n",
        "Во второй строке записаны \n",
        "**n**\n",
        " целых чисел \n",
        "**a**\n",
        "*`i`*\n",
        " (\n",
        "1\n",
        "≤\n",
        "a\n",
        "*`i`*\n",
        "≤\n",
        "1\n",
        "0\n",
        "*`9`*\n",
        ") - сам массив.\n",
        "Далее в \n",
        "**q**\n",
        " строках описаны запросы к массиву. Каждый запрос описывается двумя числами \n",
        "**l**\n",
        ", \n",
        "**r**\n",
        " (\n",
        "1\n",
        "≤\n",
        "l\n",
        "≤\n",
        "r\n",
        "≤\n",
        "n\n",
        ") - левой и правой границей отрезка, на котором нужно найти сумму.\n",
        "  \n",
        "**Формат вывода**  \n",
        "Для каждого запроса в отдельной строке выведите единственное число - сумму на соответствующем отрезке."
      ]
    },
    {
      "cell_type": "markdown",
      "metadata": {
        "id": "TeW1nFTWhxS4"
      },
      "source": [
        "**Пример**  \n",
        "\n",
        "**`Ввод`**\t\n",
        "4 10  \n",
        "1 2 3 4  \n",
        "1 1  \n",
        "1 2  \n",
        "1 3  \n",
        "1 4  \n",
        "2 2  \n",
        "2 3  \n",
        "2 4  \n",
        "3 3  \n",
        "3 4  \n",
        "4 4  \n",
        "  \n",
        "**`Вывод`**  \n",
        "1  \n",
        "3  \n",
        "6  \n",
        "10  \n",
        "2  \n",
        "5  \n",
        "9  \n",
        "3  \n",
        "7  \n",
        "4  "
      ]
    },
    {
      "cell_type": "code",
      "metadata": {
        "colab": {
          "base_uri": "https://localhost:8080/"
        },
        "id": "WuxjrjlLhxS4",
        "outputId": "6cb682b4-27a0-456f-9584-9841bbbad221"
      },
      "source": [
        "n, q = map(int,input().split())\n",
        "\n",
        "a = [int(i) for i in input().split()]\n",
        "\n",
        "asum = [0]*(len(a)+1)\n",
        "\n",
        "for i in range(1,len(a)+1):\n",
        "  asum[i] = asum[i-1] + a[i-1]\n",
        "\n",
        "for _ in range(q):\n",
        "  l, r = map(int, input().split())\n",
        "  print(asum[r]-asum[l-1])\n"
      ],
      "execution_count": null,
      "outputs": [
        {
          "output_type": "stream",
          "name": "stdout",
          "text": [
            "4 10\n",
            "1 2 3 4\n",
            "1 1\n",
            "1\n",
            "1 2\n",
            "3\n",
            "1 3\n",
            "6\n",
            "1 4\n",
            "10\n",
            "2 2\n",
            "2\n",
            "2 3\n",
            "5\n",
            "2 4\n",
            "9\n",
            "3 3\n",
            "3\n",
            "3 4\n",
            "7\n",
            "4 4\n",
            "4\n"
          ]
        }
      ]
    },
    {
      "cell_type": "code",
      "metadata": {
        "id": "hAOlSwRwhxS4"
      },
      "source": [
        "n = int(input())\n",
        "array = [int(elem) for elem in input().split()]\n",
        "\n",
        "pref_sums = [0] * (n + 1)\n",
        "max_pref_sum_i = 0\n",
        "min_pref_sum_i = 0\n",
        "max_sum = array[0]\n",
        "\n",
        "for i in range(1, n + 1):\n",
        "    pref_sums[i] = pref_sums[i - 1] + array[i - 1]\n",
        "\n",
        "    if pref_sums[i - 1] < pref_sums[min_pref_sum_i]:\n",
        "        min_pref_sum_i = (i - 1)\n",
        "\n",
        "    cur_sum = pref_sums[i] - pref_sums[min_pref_sum_i]\n",
        "    if max_sum < cur_sum:\n",
        "        max_sum = cur_sum\n",
        "        max_pref_sum_i = i\n",
        "\n",
        "print(max_sum)"
      ],
      "execution_count": null,
      "outputs": []
    },
    {
      "cell_type": "markdown",
      "metadata": {
        "id": "L7A3PI8VhxS5"
      },
      "source": [
        "---"
      ]
    },
    {
      "cell_type": "markdown",
      "metadata": {
        "id": "LoSxu7jfhxS5"
      },
      "source": [
        "### Задача B. Максимальная сумма"
      ]
    },
    {
      "cell_type": "markdown",
      "metadata": {
        "id": "vglpK5AMhxS5"
      },
      "source": [
        "В этой задаче вам требуется найти непустой отрезок массива с максимальной суммой.  \n",
        "**Формат ввода**  \n",
        "В первой строке входных данных записано единственное число \n",
        "**n**\n",
        " (\n",
        "1\n",
        "≤\n",
        "n\n",
        "≤\n",
        "3\n",
        "⋅\n",
        "1\n",
        "0\n",
        "*`5`*\n",
        ") -  размер массива.  \n",
        "Во второй строке записано \n",
        "**n**\n",
        " целых чисел \n",
        "**a**\n",
        "`i`\n",
        " (\n",
        "−\n",
        "1\n",
        "0\n",
        "*`9`*\n",
        "≤\n",
        "a\n",
        "*i*\n",
        "≤\n",
        "1\n",
        "0\n",
        "*`9`*\n",
        ") - сам массив.\n",
        "  \n",
        "**Формат вывода**  \n",
        "Выведите одно число - максимальную сумму на отрезке в данном массиве."
      ]
    },
    {
      "cell_type": "markdown",
      "metadata": {
        "id": "2sEPdo3ghxS5"
      },
      "source": [
        "**Пример 1**  \n",
        "**Ввод**\t\n",
        "4  \n",
        "1 2 3 4  \n",
        "\n",
        "**Вывод**  \n",
        "10  "
      ]
    },
    {
      "cell_type": "code",
      "metadata": {
        "id": "R8xwNxl6hxS5"
      },
      "source": [
        "n = int(input())\n",
        "a = map(int, input().split())\n",
        "\n",
        "maxsum = a[0]\n",
        "l = 0\n",
        "r = 0\n",
        "for \n"
      ],
      "execution_count": null,
      "outputs": []
    },
    {
      "cell_type": "markdown",
      "metadata": {
        "id": "_IVbPbvHhxS6"
      },
      "source": [
        "---"
      ]
    },
    {
      "cell_type": "markdown",
      "metadata": {
        "id": "alYM5NomhxS6"
      },
      "source": [
        "### Задача C. Каждому по компьютеру"
      ]
    },
    {
      "cell_type": "markdown",
      "metadata": {
        "id": "8n_sUiUjhxS6"
      },
      "source": [
        "В новом учебном году на занятия в компьютерные классы Дворца Творчества Юных пришли учащиеся, которые были разбиты на N групп. В i-й группе оказалось Xi человек. Тут же перед директором встала серьезная проблема: как распределить группы по аудиториям. Во дворце имеется M ≥ N аудиторий, в j-й аудитории имеется Yj компьютеров. Для занятий необходимо, чтобы у каждого учащегося был компьютер и еще один компьютер был у преподавателя. Переносить компьютеры из одной аудитории в другую запрещается. Помогите директору!\n",
        "\n",
        "Напишите программу, которая найдет, какое максимальное количество групп удастся одновременно распределить по аудиториям, чтобы всем учащимся в каждой группе хватило компьютеров, и при этом остался бы еще хотя бы один для учителя."
      ]
    },
    {
      "cell_type": "markdown",
      "metadata": {
        "id": "_vJTELR4hxS6"
      },
      "source": [
        "**Формат ввода**  \n",
        "На первой строке входного файла расположены числа N и M (1 ≤ N ≤ M ≤ 1000). На второй строке расположено N чисел — X1, …, XN (1 ≤ Xi ≤ 1000 для всех 1 ≤ i ≤ N). На третьей строке расположено M чисел Y1, ..., YM (1 ≤ Yi ≤ 1000 для всех 1 ≤ i ≤ M).\n",
        "\n",
        "**Формат вывода**  \n",
        "Выведите на первой строке число P - количество групп, которые удастся распределить по аудиториям. На второй строке выведите распределение групп по аудиториям – N чисел, i-е число должно соответствовать номеру аудитории, в которой должна заниматься i-я группа. (Нумерация как групп, так и аудиторий, начинается с 1). Если i-я группа осталась без аудитории, i-е число должно быть равно 0. Если допустимых распределений несколько, выведите любое из них."
      ]
    },
    {
      "cell_type": "markdown",
      "metadata": {
        "id": "1nEMsNrHhxS6"
      },
      "source": [
        "**Пример 1**  \n",
        "**`Ввод`**\t\n",
        "1 1  \n",
        "1  \n",
        "2  \n",
        "\n",
        "**`Вывод`**  \n",
        "1  \n",
        "1"
      ]
    },
    {
      "cell_type": "markdown",
      "metadata": {
        "id": "eKhkqNN-hxS6"
      },
      "source": [
        "**Пример 2**  \n",
        "**`Ввод`**  \n",
        "1 1  \n",
        "1  \n",
        "1  \n",
        "\n",
        "**`Вывод`**  \n",
        "0  \n",
        "0  "
      ]
    },
    {
      "cell_type": "code",
      "metadata": {
        "colab": {
          "base_uri": "https://localhost:8080/"
        },
        "id": "xlO5f1DghxS7",
        "outputId": "a65ddba2-09c4-4ff8-c106-d1ee0759d3d8"
      },
      "source": [
        "def f():\n",
        "  x = list(map(int, input().split()))\n",
        "  for i in range(len(x)):\n",
        "    x[i] = [x[i], i+1]\n",
        "  x.sort()  \n",
        "  return x  \n",
        "\n",
        "n, m = map(int, input().split())\n",
        "x = f()\n",
        "y = f()\n",
        "\n",
        "ans = [0] * (n + 1)\n",
        "ynum = 0\n",
        "cnt = 0\n",
        "for xcnt, xnum in x:\n",
        "  while ynum < len(y) and y[ynum][0] < xcnt + 1:\n",
        "    ynum += 1\n",
        "  if ynum == len(y):\n",
        "    break\n",
        "  ans[xnum] = y[ynum][1]\n",
        "  ynum += 1\n",
        "  cnt += 1\n",
        "\n",
        "print()\n",
        "print(cnt)\n",
        "print(*ans[1:])    \n"
      ],
      "execution_count": null,
      "outputs": [
        {
          "output_type": "stream",
          "name": "stdout",
          "text": [
            "4 4\n",
            "3 1 2 3\n",
            "2 2 3 3\n",
            "\n",
            "2\n",
            "0 1 3 0\n"
          ]
        }
      ]
    },
    {
      "cell_type": "markdown",
      "metadata": {
        "id": "IWFXIOfGhxS7"
      },
      "source": [
        "---"
      ]
    },
    {
      "cell_type": "markdown",
      "metadata": {
        "id": "MVfhioOYhxS7"
      },
      "source": [
        "### Задача D. Правильная, круглая, скобочная"
      ]
    },
    {
      "cell_type": "markdown",
      "metadata": {
        "id": "ZhRFqC-mhxS7"
      },
      "source": [
        "Если из правильного арифметического выражения вычеркнуть всё, кроме круглых скобок, то получится правильная скобочная последовательность. Проверьте, является ли введённая строка правильной скобочной последовательностью."
      ]
    },
    {
      "cell_type": "markdown",
      "metadata": {
        "id": "Kft1Ab_YhxS7"
      },
      "source": [
        "**Формат ввода**  \n",
        "Вводится непустая строка, состоящая из открывающих и закрывающих круглых скобок. Длина строки не превосходит 100000\n",
        "\n",
        "**Формат вывода**   \n",
        "Выведите YES если введённая строка является правильной скобочной последовательностью и NO иначе"
      ]
    },
    {
      "cell_type": "markdown",
      "metadata": {
        "id": "OiJeWZnVhxS8"
      },
      "source": [
        "**Пример 1**  \n",
        "**`Ввод`**\t\n",
        "(())()  \n",
        "\n",
        "**`Вывод`**  \n",
        "YES  "
      ]
    },
    {
      "cell_type": "code",
      "metadata": {
        "colab": {
          "base_uri": "https://localhost:8080/"
        },
        "id": "BRPWFbZvhxS8",
        "outputId": "6ecfaa8a-f82a-4529-a1c8-c6db04bc034f"
      },
      "source": [
        "s = input()\n",
        "l = 0\n",
        "r = 0\n",
        "f = True\n",
        "for i in s:\n",
        "  if i == '(':\n",
        "    l += 1\n",
        "  elif i == ')':\n",
        "    r += 1\n",
        "  if r > l:\n",
        "    f = False\n",
        "    break\n",
        "\n",
        "if r != l:\n",
        "  f = False\n",
        "  \n",
        "print('YES' if f else 'NO')"
      ],
      "execution_count": null,
      "outputs": [
        {
          "output_type": "stream",
          "name": "stdout",
          "text": [
            "(()))()\n",
            "NO\n"
          ]
        }
      ]
    },
    {
      "cell_type": "markdown",
      "metadata": {
        "id": "U_aK0YlzhxS8"
      },
      "source": [
        "---"
      ]
    },
    {
      "cell_type": "markdown",
      "metadata": {
        "id": "ufGI-a5rhxS-"
      },
      "source": [
        "### Задача E. Сумма трёх"
      ]
    },
    {
      "cell_type": "markdown",
      "metadata": {
        "id": "UYxRyZlnhxS-"
      },
      "source": [
        "Даны три массива целых чисел \n",
        "**A**\n",
        ",\n",
        "**B**\n",
        ",\n",
        "**C**\n",
        " и целое число \n",
        "**S**\n",
        ".\n",
        "Найдите такие \n",
        "i\n",
        ",\n",
        "j\n",
        ",\n",
        "k\n",
        ", что \n",
        "A[i]\n",
        "+\n",
        "B[j]\n",
        "+\n",
        "C[k]\n",
        "=\n",
        "S\n",
        "."
      ]
    },
    {
      "cell_type": "markdown",
      "metadata": {
        "id": "u7X98uVJhxS-"
      },
      "source": [
        "**Формат ввода**  \n",
        "На первой строке число \n",
        "**S**\n",
        " (\n",
        "1\n",
        "≤\n",
        "S\n",
        "≤\n",
        "1\n",
        "0\n",
        "*`9`*\n",
        ").  \n",
        "Следующие три строки содержат описание массивов \n",
        "**A**\n",
        ",\n",
        "**B**\n",
        ",\n",
        "**C**\n",
        " в одинаковом формате: первое число задает длину \n",
        "**n**\n",
        " соответствующего массива (\n",
        "1\n",
        "≤\n",
        "n\n",
        "≤\n",
        "1\n",
        "5\n",
        "0\n",
        "0\n",
        "0\n",
        "), затем заданы \n",
        "n\n",
        " целых чисел от \n",
        "1\n",
        " до \n",
        "1\n",
        "0\n",
        "*`9`*\n",
        " — сам массив."
      ]
    },
    {
      "cell_type": "markdown",
      "metadata": {
        "id": "GHGPYsZghxS-"
      },
      "source": [
        "**Формат вывода**  \n",
        "Если таких \n",
        "i\n",
        ",\n",
        "j\n",
        ",\n",
        "k\n",
        " не существует, выведите единственное число \n",
        "−\n",
        "1\n",
        ". Иначе выведите на одной строке три числа — \n",
        "i\n",
        ",\n",
        "j\n",
        ",\n",
        "k\n",
        ". Элементы массивов нумеруются с нуля. Если ответов несколько, выведите лексикографически минимальный."
      ]
    },
    {
      "cell_type": "markdown",
      "metadata": {
        "id": "r7ZyeQTrhxS_"
      },
      "source": [
        "**Пример 1**  \n",
        "**`Ввод`**\t\n",
        "3  \n",
        "2 1 2   \n",
        "2 3 1  \n",
        "2 3 1  \n",
        "  \n",
        "**`Вывод`**   \n",
        "0 1 1"
      ]
    },
    {
      "cell_type": "markdown",
      "metadata": {
        "id": "nm-H8-uVhxS_"
      },
      "source": [
        "**Пример 3**  \n",
        "**`Ввод`**\t\n",
        "5  \n",
        "4 1 2 3 4  \n",
        "3 5 2 1  \n",
        "4 5 3 2 2  \n",
        "  \n",
        "**`Вывод`**  \n",
        "0 1 2"
      ]
    },
    {
      "cell_type": "code",
      "metadata": {
        "colab": {
          "base_uri": "https://localhost:8080/"
        },
        "id": "wssyQN3hhxTA",
        "outputId": "90a9cae3-ff5c-4f92-9ed7-fe421be869cd"
      },
      "source": [
        "def f():\n",
        "  x = list(map(int, input().split()))[1:]\n",
        "  for i in range(len(x)):\n",
        "    x[i] = x[i], i\n",
        "  x.sort()\n",
        "  return x\n",
        "\n",
        "s = int(input())\n",
        "a = f()\n",
        "b = f()\n",
        "c = f()\n",
        "c.sort(key=lambda x: (x[0], -x[1]))\n",
        "\n",
        "flag = False\n",
        "for aval, apos in a:\n",
        "  cpos = len(c) - 1\n",
        "  for bval, bpos in b:\n",
        "    while cpos > 0 and aval + bval + c[cpos][0] > s:\n",
        "      cpos -= 1\n",
        "    if aval + bval + c[cpos][0] == s and (not flag or (apos, bpos, cpos) < ans):\n",
        "      ans = apos, bpos, c[cpos][1]\n",
        "      flag = True  \n",
        "\n",
        "print()\n",
        "if flag:\n",
        "  print(*ans)\n",
        "else:\n",
        "  print(-1)\n"
      ],
      "execution_count": null,
      "outputs": [
        {
          "output_type": "stream",
          "name": "stdout",
          "text": [
            "5\n",
            "4 1 2 3 4\n",
            "3 5 2 1\n",
            "4 5 3 2 2\n",
            "\n",
            "0 1 2\n"
          ]
        }
      ]
    },
    {
      "cell_type": "code",
      "metadata": {
        "id": "nmnEVhcfhxTA"
      },
      "source": [
        "s = int(input())\n",
        "\n",
        "a_raw = [int(num) for num in input().split()]\n",
        "a_len = a_raw[0]\n",
        "a = a_raw[1:]\n",
        "\n",
        "b_raw = [int(num) for num in input().split()]\n",
        "b_len = b_raw[0]\n",
        "b = b_raw[1:]\n",
        "\n",
        "c_raw = [int(num) for num in input().split()]\n",
        "c_len = c_raw[0]\n",
        "c = c_raw[1:]\n",
        "\n",
        "c_map = {}\n",
        "for index, elem in enumerate(c_raw[1:]):\n",
        "    if elem not in c_map:\n",
        "        c_map[elem] = index\n",
        "\n",
        "\n",
        "def solution():\n",
        "    for i in range(len(a)):\n",
        "        for j in range(len(b)):\n",
        "            num_to_find = s - a[i] - b[j]\n",
        "            if num_to_find in c_map:\n",
        "                return f\"{i} {j} {c_map[num_to_find]}\"\n",
        "    return \"-1\"\n",
        "\n",
        "\n",
        "print(solution())\n"
      ],
      "execution_count": null,
      "outputs": []
    }
  ]
}