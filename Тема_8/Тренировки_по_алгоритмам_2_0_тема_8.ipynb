{
  "nbformat": 4,
  "nbformat_minor": 0,
  "metadata": {
    "colab": {
      "name": "Тренировки_по_алгоритмам_2_0_тема_8.ipynb",
      "provenance": [],
      "collapsed_sections": [],
      "toc_visible": true
    },
    "kernelspec": {
      "name": "python3",
      "display_name": "Python 3"
    },
    "language_info": {
      "name": "python"
    }
  },
  "cells": [
    {
      "cell_type": "markdown",
      "metadata": {
        "id": "ELWs29m71BG8"
      },
      "source": [
        "## Тема 8"
      ]
    },
    {
      "cell_type": "markdown",
      "metadata": {
        "id": "NquZhPHD1xGM"
      },
      "source": [
        "### Задача A. Бинарное дерево (вставка, поиск, обход)"
      ]
    },
    {
      "cell_type": "markdown",
      "metadata": {
        "id": "mEoaWmDm1_l7"
      },
      "source": [
        "Напишите программу, которая будет реализовывать действия в бинарном дереве поиска «вставить» и «найти» (по значению). Программа должна обрабатывать запросы трёх видов:\n",
        "\n",
        "ADD n — если указанного числа еще нет в дереве, вставлять его и выводить слово «DONE», если уже есть — оставлять дерево как было и выводить слово «ALREADY».\n",
        "\n",
        "SEARCH — следует выводить слово «YES» (если значение найдено в дереве) или слово «NO» (если не найдено). Дерево при этом не меняется.\n",
        "\n",
        "PRINTTREE — выводить все дерево, обязательно используя алгоритм, указанный в формате вывода результатов."
      ]
    },
    {
      "cell_type": "markdown",
      "metadata": {
        "id": "2uVIxsAx2Eod"
      },
      "source": [
        "**Формат ввода**  \n",
        "В каждой строке входных данных записан один из запросов ADD n или SEARCH n или PRINTTREE. Гарантируется, что запросы PRINTTREE будут вызываться только в моменты, когда дерево не пустое. Общее количество запросов не превышает 1000, из них не более 20 запросов PRINTTREE."
      ]
    },
    {
      "cell_type": "markdown",
      "metadata": {
        "id": "dkC1SXG22Vj7"
      },
      "source": [
        "**Формат вывода**  \n",
        "Для каждого запроса выводите ответ на него. Для запросов ADD и SEARCH — соответствующее слово в отдельной строке. На запрос PRINTTREE надо выводить дерево, обязательно согласно такому алгоритму:\n",
        "\n",
        "1) Распечатать левое поддерево\n",
        "\n",
        "2) Вывести количество точек, равное глубине узла\n",
        "\n",
        "3) Вывести значение ключа\n",
        "\n",
        "4) Распечатать правое поддерево"
      ]
    },
    {
      "cell_type": "markdown",
      "metadata": {
        "id": "B7V7Sk3q2ZyJ"
      },
      "source": [
        "**Пример**  \n",
        "**`Ввод`**  \t\n",
        "ADD 2  \n",
        "ADD 3  \n",
        "ADD 2  \n",
        "SEARCH 2  \n",
        "ADD 5  \n",
        "PRINTTREE  \n",
        "SEARCH 7  \n",
        "\n",
        "**`Вывод`**  \n",
        "DONE  \n",
        "DONE  \n",
        "ALREADY  \n",
        "YES  \n",
        "DONE  \n",
        "2  \n",
        ".3    \n",
        "..5  \n",
        "NO  "
      ]
    },
    {
      "cell_type": "code",
      "metadata": {
        "id": "280jLMSo22DE"
      },
      "source": [
        "def add(root, key):\n",
        "    if not root:\n",
        "        root.extend([key, None, None])\n",
        "        print(\"DONE\")\n",
        "        return\n",
        "\n",
        "    root_key = root[0]\n",
        "    if key == root_key:\n",
        "        print(\"ALREADY\")\n",
        "        return\n",
        "    elif key < root_key:\n",
        "        left_anc = root[1]\n",
        "        if not left_anc:\n",
        "            root[1] = [key, None, None]\n",
        "            print(\"DONE\")\n",
        "        else:\n",
        "            add(root[1], key)\n",
        "    elif key > root_key:\n",
        "        right_anc = root[2]\n",
        "        if not right_anc:\n",
        "            root[2] = [key, None, None]\n",
        "            print(\"DONE\")\n",
        "        else:\n",
        "            add(root[2], key)\n",
        "\n",
        "\n",
        "def search(root, key):\n",
        "    if not root:\n",
        "        print(\"NO\")\n",
        "        return\n",
        "\n",
        "    root_key = root[0]\n",
        "    if key == root_key:\n",
        "        print(\"YES\")\n",
        "        return\n",
        "    elif key < root_key:\n",
        "        left_anc = root[1]\n",
        "        if not left_anc:\n",
        "            print(\"NO\")\n",
        "        else:\n",
        "            search(left_anc, key)\n",
        "    elif key > root_key:\n",
        "        right_anc = root[2]\n",
        "        if not right_anc:\n",
        "            print(\"NO\")\n",
        "        else:\n",
        "            search(root[2], key)\n",
        "\n",
        "\n",
        "def walk(root, depth=0):\n",
        "    if not root:\n",
        "        return\n",
        "\n",
        "    if root[1]:\n",
        "        walk(root[1], depth + 1)\n",
        "    print(f\"{''.join('.' * depth)}{root[0]}\")\n",
        "    if root[2]:\n",
        "        walk(root[2], depth + 1)\n",
        "\n",
        "\n",
        "file = open('input.txt')\n",
        "commands = file.readlines()\n",
        "file.close()\n",
        "\n",
        "tree = []\n",
        "\n",
        "for command in commands:\n",
        "    command_parts = command.split()\n",
        "\n",
        "    if command_parts[0] == 'ADD':\n",
        "        add(tree, int(command_parts[1]))\n",
        "    elif command_parts[0] == 'SEARCH':\n",
        "        search(tree, int(command_parts[1]))\n",
        "    elif command_parts[0] == 'PRINTTREE':\n",
        "        walk(tree)"
      ],
      "execution_count": null,
      "outputs": []
    },
    {
      "cell_type": "markdown",
      "metadata": {
        "id": "Ne4-ldeR222J"
      },
      "source": [
        "---"
      ]
    },
    {
      "cell_type": "markdown",
      "metadata": {
        "id": "25V1OjMi23nk"
      },
      "source": [
        "### Задача B. Родословная: предки и потомки"
      ]
    },
    {
      "cell_type": "markdown",
      "metadata": {
        "id": "f2etZ-69Qx-I"
      },
      "source": [
        "В генеалогическом древе у каждого человека, кроме родоначальника, есть ровно один родитель.\n",
        "\n",
        "Каждом элементу дерева сопоставляется целое неотрицательное число, называемое высотой. У родоначальника высота равна 0, у любого другого элемента высота на 1 больше, чем у его родителя.\n",
        "\n",
        "Даны два элемента в дереве. Определите, является ли один из них потомком другого."
      ]
    },
    {
      "cell_type": "markdown",
      "metadata": {
        "id": "BJyQVH14Q5Ld"
      },
      "source": [
        "**Формат ввода**  \n",
        "Программа получает на вход число элементов в генеалогическом древе N. Далее следует N−1 строка, задающие родителя для каждого элемента древа, кроме родоначальника. Каждая строка имеет вид имя_потомка имя_родителя.\n",
        "\n",
        "Далее до конца файла идут строки, содержащие имена двух элементов дерева."
      ]
    },
    {
      "cell_type": "markdown",
      "metadata": {
        "id": "K7_jHY2VQ6vj"
      },
      "source": [
        "**Формат вывода**  \n",
        "Для каждого такого запроса выведите одно из трех чисел: 1, если первый элемент является предком второго, 2, если второй является предком первого или 0, если ни один из них не является предком другого."
      ]
    },
    {
      "cell_type": "markdown",
      "metadata": {
        "id": "GV2gwynnRAeH"
      },
      "source": [
        "**Пример**  \n",
        "**`Ввод`**\t\n",
        "9  \n",
        "Alexei Peter_I  \n",
        "Anna Peter_I  \n",
        "Elizabeth Peter_I  \n",
        "Peter_II Alexei  \n",
        "Peter_III Anna  \n",
        "Paul_I Peter_III  \n",
        "Alexander_I Paul_I  \n",
        "Nicholaus_I Paul_I  \n",
        "Anna Nicholaus_I  \n",
        "Peter_II Peter_I  \n",
        "Alexei Paul_I  \n",
        "\n",
        "**`Вывод`**  \n",
        "1 2 0 \n"
      ]
    },
    {
      "cell_type": "code",
      "metadata": {
        "id": "04kwNXMzRNNe"
      },
      "source": [
        "file = open('input.txt')\n",
        "lines = file.readlines()\n",
        "file.close()\n",
        "\n",
        "n = int(lines[0])\n",
        "\n",
        "rel_map = {}\n",
        "for line in lines[1: n]:\n",
        "    anc, pre = line.split()\n",
        "    if pre not in rel_map:\n",
        "        rel_map[pre] = [anc]\n",
        "    else:\n",
        "        rel_map[pre].append(anc)\n",
        "\n",
        "def rel_exists(predecessor, ancestor):\n",
        "    re_flag = []\n",
        "\n",
        "    def rel_exists_recur(p, a, flag: []):\n",
        "        if p not in rel_map:\n",
        "            return\n",
        "\n",
        "        anc_list = rel_map[p]\n",
        "        if a in anc_list:\n",
        "            flag.append(True)\n",
        "            return\n",
        "\n",
        "        for aa in anc_list:\n",
        "            if not flag:\n",
        "                rel_exists_recur(aa, a, flag)\n",
        "\n",
        "    rel_exists_recur(predecessor, ancestor, re_flag)\n",
        "    return bool(re_flag)\n",
        "\n",
        "\n",
        "request_results = []\n",
        "\n",
        "for request in lines[n:]:\n",
        "    first, second = request.split()\n",
        "    if rel_exists(first, second):\n",
        "        request_results.append('1')\n",
        "    elif rel_exists(second, first):\n",
        "        request_results.append('2')\n",
        "    else:\n",
        "        request_results.append('0')\n",
        "\n",
        "\n",
        "print(' '.join(request_results))\n",
        "\n"
      ],
      "execution_count": null,
      "outputs": []
    },
    {
      "cell_type": "markdown",
      "metadata": {
        "id": "74qgS33y1Cu9"
      },
      "source": [
        "---"
      ]
    },
    {
      "cell_type": "markdown",
      "metadata": {
        "id": "OQMgYED3UC-T"
      },
      "source": [
        "### Задача C. Родословная: LCA"
      ]
    },
    {
      "cell_type": "markdown",
      "metadata": {
        "id": "QPJuhKvKUJ7g"
      },
      "source": [
        "В генеалогическом древе определите для двух элементов их наименьшего общего предка. Наименьшим общим предком элементов A и B является такой элемент C, что С является предком A, C является предком B, при этом глубина C является наибольшей из возможных. При этом элемент считается своим собственным предком."
      ]
    },
    {
      "cell_type": "markdown",
      "metadata": {
        "id": "jSO6XrmtUNcI"
      },
      "source": [
        "**Формат ввода**  \n",
        "Формат входных данных аналогичен предыдущей задаче."
      ]
    },
    {
      "cell_type": "markdown",
      "metadata": {
        "id": "DCD1YV9IUS6R"
      },
      "source": [
        "**Формат вывода**  \n",
        "Для каждого запроса выведите наименьшего общего предка данных элементов."
      ]
    },
    {
      "cell_type": "markdown",
      "metadata": {
        "id": "KgYnsVsJUWuc"
      },
      "source": [
        "**Пример**  \n",
        "**`Ввод`**\t\n",
        "9  \n",
        "Alexei Peter_I  \n",
        "Anna Peter_I  \n",
        "Elizabeth Peter_I  \n",
        "Peter_II Alexei  \n",
        "Peter_III Anna  \n",
        "Paul_I Peter_III  \n",
        "Alexander_I Paul_I  \n",
        "Nicholaus_I Paul_I  \n",
        "Alexander_I Nicholaus_I  \n",
        "Peter_II Paul_I  \n",
        "Alexander_I Anna  \n",
        "\n",
        "**`Вывод`**  \n",
        "Paul_I  \n",
        "Peter_I  \n",
        "Anna  "
      ]
    },
    {
      "cell_type": "code",
      "metadata": {
        "id": "9pRVg0q_UeUU"
      },
      "source": [
        "import sys\n",
        "sys.setrecursionlimit(1200)\n",
        "\n",
        "file = open('input.txt')\n",
        "lines = file.readlines()\n",
        "file.close()\n",
        "\n",
        "n = int(lines[0])\n",
        "\n",
        "rel_tree_index = {}\n",
        "rel_map = {}\n",
        "anc_set = set()\n",
        "all_set = set()\n",
        "\n",
        "\n",
        "for line in lines[1: n]:\n",
        "    anc, pre = line.split()\n",
        "    anc_set.add(anc)\n",
        "    all_set.add(anc)\n",
        "    all_set.add(pre)\n",
        "\n",
        "    if pre not in rel_map:\n",
        "        rel_map[pre] = [anc]\n",
        "    else:\n",
        "        rel_map[pre].append(anc)\n",
        "\n",
        "root = list(all_set.difference(anc_set))[0]\n",
        "\n",
        "\n",
        "def fill_tree(tree_list, root_key, relations_map, predecessor=None, depth=0):\n",
        "    global rel_tree_index\n",
        "    node = [root_key, [], predecessor, depth]\n",
        "    tree_list.append(node)\n",
        "\n",
        "    rel_tree_index[root_key] = node\n",
        "\n",
        "    if root_key not in relations_map:\n",
        "        return\n",
        "\n",
        "    for rel in relations_map[root_key]:\n",
        "        fill_tree(node[1], rel, relations_map, node, depth + 1)\n",
        "\n",
        "\n",
        "tree = []\n",
        "fill_tree(tree, root, rel_map)\n",
        "tree = tree[0]\n",
        "\n",
        "\n",
        "def search(key_to_find):\n",
        "    if key_to_find not in rel_tree_index:\n",
        "        return None\n",
        "    return rel_tree_index[key_to_find]\n",
        "\n",
        "\n",
        "def lca(person_a, person_b) -> str:\n",
        "    node_a = search(person_a)\n",
        "    node_b = search(person_b)\n",
        "\n",
        "    if node_a[3] == 0:\n",
        "        return node_a[0]\n",
        "    if node_b[3] == 0:\n",
        "        return node_b[0]\n",
        "\n",
        "    depth_div = node_a[3] - node_b[3]\n",
        "    if depth_div > 0:\n",
        "        for i in range(depth_div):\n",
        "            node_a = node_a[2]\n",
        "    elif depth_div < 0:\n",
        "        for i in range(-depth_div):\n",
        "            node_b = node_b[2]\n",
        "\n",
        "    while node_a[0] != node_b[0]:\n",
        "        node_a = node_a[2]\n",
        "        node_b = node_b[2]\n",
        "\n",
        "    return node_a[0]\n",
        "\n",
        "\n",
        "\n",
        "for request in lines[n:]:\n",
        "    first_person, second_person = request.split()\n",
        "    print(lca(first_person, second_person))\n",
        "    "
      ],
      "execution_count": null,
      "outputs": []
    },
    {
      "cell_type": "markdown",
      "metadata": {
        "id": "N7-lNGARUejc"
      },
      "source": [
        "---"
      ]
    },
    {
      "cell_type": "markdown",
      "metadata": {
        "id": "8JSsEv3lUfVi"
      },
      "source": [
        "### D. Бусинки"
      ]
    },
    {
      "cell_type": "markdown",
      "metadata": {
        "id": "Gd2MWFmoUn_m"
      },
      "source": [
        "Маленький мальчик делает бусы. У него есть много пронумерованных бусинок. Каждая бусинка имеет уникальный номер – целое число в диапазоне от 1 до N. Он выкладывает все бусинки на полу и соединяет бусинки между собой произвольным образом так, что замкнутых фигур не образуется. Каждая из бусинок при этом оказывается соединенной с какой-либо другой бусинкой.\n",
        "\n",
        "Требуется определить, какое максимальное количество последовательно соединенных бусинок присутствует в полученной фигуре."
      ]
    },
    {
      "cell_type": "markdown",
      "metadata": {
        "id": "c_VIbN3IUqI8"
      },
      "source": [
        "**Формат ввода**  \n",
        "В первой строке – количество бусинок 1 ≤ N ≤ 2500.  \n",
        "В последующих N-1 строках по два целых числа – номера, соединенных бусинок."
      ]
    },
    {
      "cell_type": "markdown",
      "metadata": {
        "id": "bfFNTZ_kUws8"
      },
      "source": [
        "**Формат вывода**  \n",
        "Вывести одно число – искомое количество бусинок."
      ]
    },
    {
      "cell_type": "markdown",
      "metadata": {
        "id": "JiaWfvZbUyIS"
      },
      "source": [
        "**Пример 1**  \n",
        "**`Ввод`**\t\n",
        "2  \n",
        "1 2  \n",
        "\n",
        "**`Вывод`**  \n",
        "2  "
      ]
    },
    {
      "cell_type": "markdown",
      "metadata": {
        "id": "OEgPrOGvU8Ot"
      },
      "source": [
        "**Пример 2**  \n",
        "**`Ввод`**\t\n",
        "5  \n",
        "2 1  \n",
        "2 3  \n",
        "2 4  \n",
        "2 5  \n",
        "\n",
        "**`Вывод`**  \n",
        "3"
      ]
    },
    {
      "cell_type": "code",
      "metadata": {
        "id": "i5efGwTkVIw1"
      },
      "source": [
        "\n",
        "file = open('input.txt')\n",
        "lines = file.readlines()\n",
        "file.close()\n",
        "\n",
        "n = int(lines[0])\n",
        "rel_map = {}\n",
        "\n",
        "for i in range(1, n):\n",
        "    parent, child = map(int, lines[i].split())\n",
        "\n",
        "    if parent not in rel_map:\n",
        "        rel_map[parent] = [child]\n",
        "    else:\n",
        "        rel_map[parent].append(child)\n",
        "    if child not in rel_map:\n",
        "        rel_map[child] = [parent]\n",
        "    else:\n",
        "        rel_map[child].append(parent)\n",
        "\n",
        "\n",
        "def get_leaves():\n",
        "    leaves_list = []\n",
        "    for node in rel_map:\n",
        "        if len(rel_map[node]) == 1:\n",
        "            leaves_list.append(node)\n",
        "    return leaves_list\n",
        "\n",
        "\n",
        "def find_diameter():\n",
        "    global rel_map\n",
        "    dist = 0\n",
        "\n",
        "    while len(rel_map) >= 2:\n",
        "        leaves = get_leaves()\n",
        "        for leaf in leaves:\n",
        "            for leaf_child in rel_map[leaf]:\n",
        "                rel_map[leaf_child].remove(leaf)\n",
        "            rel_map.pop(leaf)\n",
        "        if len(leaves) < 2:\n",
        "            dist += 1\n",
        "        else:\n",
        "            dist += 2\n",
        "\n",
        "    dist += len(rel_map)\n",
        "\n",
        "    print(dist)\n",
        "\n",
        "\n",
        "find_diameter()\n"
      ],
      "execution_count": null,
      "outputs": []
    },
    {
      "cell_type": "markdown",
      "metadata": {
        "id": "G9nlDnYQVJVp"
      },
      "source": [
        "---"
      ]
    },
    {
      "cell_type": "markdown",
      "metadata": {
        "id": "BrjhZhAhVTYp"
      },
      "source": [
        "### E. Дерево Хаффмана"
      ]
    },
    {
      "cell_type": "markdown",
      "metadata": {
        "id": "OhMaIBHSVUyj"
      },
      "source": [
        "Алгоритм Хаффмана позволяет кодировать символы алфавита беспрефиксным кодом различной длины, сопоставляя частым символам более короткий код, а редким - более длинный. Этот алгоритм используется во многих программах сжатия данных. Код символа определяется по следующим правилам:\n",
        "\n",
        "1. Символы входного алфавита образуют список свободных узлов. Каждый лист имеет вес, который может быть равен либо вероятности, либо количеству вхождений символа в сжимаемое сообщение.\n",
        "\n",
        "2. Выбираются два свободных узла дерева с наименьшими весами.\n",
        "\n",
        "3. Создается их родитель с весом, равным их суммарному весу.\n",
        "\n",
        "4. Родитель добавляется в список свободных узлов, а два его потомка удаляются из этого списка.\n",
        "\n",
        "5. Правой дуге, выходящей из родителя, ставится в соответствие бит 1, левой - бит 0. Битовые значения ветвей, исходящих от корня, не зависят от весов потомков.\n",
        "\n",
        "6. Шаги, начиная со второго, повторяются до тех пор, пока в списке свободных узлов не останется только один свободный узел. Он и будет считаться корнем дерева.\n",
        "\n",
        "Пусть буквы \"а\" встречается в сообщении 4 раза, буква \"б\" - 3 раза, а буквы \"в\" и \"г\" - по 1 разу. Этим частотам может быть сопоставлено такое дерево:"
      ]
    },
    {
      "cell_type": "markdown",
      "metadata": {
        "id": "VX0REdSoVbS5"
      },
      "source": [
        "![image.png](data:image/png;base64,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)"
      ]
    },
    {
      "cell_type": "markdown",
      "metadata": {
        "id": "GRqycrzyVcYA"
      },
      "source": [
        "Двоичный код буквы - это все цифры на пути из корня дерева в лист, соответствующей этой букве.\n",
        "\n",
        "Для эффективного сжатия также важно максимально экономно хранить дерево Хаффмана. Опишем обход в глубину этого дерева, при этом мы будем сначала полностью обходить левое поддерево, затем возвращаться в узел, а затем обходить правое поддерево. Каждый раз проходя по ребру будем записывать букву L, R или U в зависимости от того, куда мы шли по ребру (L - в левого ребенка, R- в правого ребенка, U - в родителя). Приведенному в примере дереву будет соответствовать строка:\n",
        "\n",
        "LURLLURUURUU\n",
        "\n",
        "Такая строка позволяет однозначно восстановить дерево и сопоставить двоичные коды всем листьям дерева. Однако, запись можно модифицировать, заменив ребра типа L и R на ребра типа D, которое означает, что мы спускаемся в ребенка (сначала в левого, а если левый посещен - в правого). Тогда запись для нашего дерева будет выглядеть так:\n",
        "\n",
        "DUDDDUDUUDUU\n",
        "\n",
        "По этой строке также однозначно возможно восстановить структуру дерева. Она использует алфавит только из двух символов вместо трёх и может быть закодирована меньшим числом бит.\n",
        "\n",
        "Эту запись также можно модифицировать, заменив смысл команды U. Теперь U будет обозначать, что мы поднимаемся к предку текущей вершины до тех пор, пока мы правый ребёнок. Если при подъёме мы пришли в вершину из левого ребенка, то сразу перейдем в правого. Запись для нашего дерева будет выглядеть так:\n",
        "\n",
        "DUDDUU\n",
        "\n",
        "Вам необходимо по записи, построенной по таким правилам, определить коды для всех листьев в порядке их обхода."
      ]
    },
    {
      "cell_type": "markdown",
      "metadata": {
        "id": "_c02vPn-VjFm"
      },
      "source": [
        "**Формат ввода**  \n",
        "В первой строке входного файла задается число N (1 ≤ N ≤ 100) - количество строк. Каждая из следующих N строк содержит описание обхода дерева.\n",
        "\n",
        "Суммарное количество символов в описаниях не превосходит 100000."
      ]
    },
    {
      "cell_type": "markdown",
      "metadata": {
        "id": "r-QabhJ1Vq6z"
      },
      "source": [
        "**Формат вывода**  \n",
        "В качестве ответа необходимо вывести N блоков кодов для каждой из строк входного файла. Каждый блок состоит из числа листьев K в этом дереве и из K строк, содержащих цифры 0 и 1 и описывающих код каждого из листьев.\n",
        "\n",
        "Гарантируется, что размер вывода не превосходит 2Мб."
      ]
    },
    {
      "cell_type": "markdown",
      "metadata": {
        "id": "0wh7ZPUxVvgJ"
      },
      "source": [
        "**Пример**  \n",
        "**`Ввод`**\t\n",
        "2  \n",
        "DUDDUU  \n",
        "DU  \n",
        "\n",
        "**`Вывод`**  \n",
        "4  \n",
        "0  \n",
        "100  \n",
        "101  \n",
        "11  \n",
        "2  \n",
        "0  \n",
        "1  "
      ]
    },
    {
      "cell_type": "code",
      "metadata": {
        "id": "hGrw_kx6V5Uw"
      },
      "source": [
        "file = open('input.txt')\n",
        "lines = file.readlines()\n",
        "file.close()\n",
        "\n",
        "def walk(tree_root, res, path=\"\"):\n",
        "    if tree_root[0]:\n",
        "        walk(tree_root[0], res, f\"{path}{0}\")\n",
        "    if not tree_root[0] and not tree_root[1]:\n",
        "        res.append(f\"{path}\\n\")\n",
        "    if tree_root[1]:\n",
        "        walk(tree_root[1], res, f\"{path}{1}\")\n",
        "\n",
        "outfile = open('output.txt', 'w')\n",
        "\n",
        "for input_line in lines[1:]:\n",
        "    commands = [char for char in input_line]\n",
        "\n",
        "    tree = [[[], [], None, 0]]\n",
        "    root = tree[0]\n",
        "    current = root\n",
        "\n",
        "    for command in commands:\n",
        "        if command == 'D':\n",
        "            new_elem = [[], [], current, -1]\n",
        "            current[0] = new_elem\n",
        "            current = new_elem\n",
        "        elif command == 'U':\n",
        "            while current[3] == 1:\n",
        "                current = current[2]\n",
        "            current = current[2]\n",
        "            new_elem = [[], [], current, 1]\n",
        "            current[1] = new_elem\n",
        "            current = new_elem\n",
        "\n",
        "    tree = tree[0]\n",
        "\n",
        "    results = []\n",
        "    walk(tree, results)\n",
        "    outfile.write(f\"{len(results)}\\n\")\n",
        "    outfile.writelines(results)\n",
        "\n",
        "outfile.close()\n"
      ],
      "execution_count": null,
      "outputs": []
    },
    {
      "cell_type": "markdown",
      "metadata": {
        "id": "LAIfwPok4Iiw"
      },
      "source": [
        "---"
      ]
    }
  ]
}