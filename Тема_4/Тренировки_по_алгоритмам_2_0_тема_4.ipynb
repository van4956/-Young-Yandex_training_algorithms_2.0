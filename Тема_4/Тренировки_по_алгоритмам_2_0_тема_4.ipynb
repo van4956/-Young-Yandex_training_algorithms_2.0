{
  "nbformat": 4,
  "nbformat_minor": 0,
  "metadata": {
    "colab": {
      "name": "Тренировки по алгоритмам 2.0 тема 4.ipynb",
      "provenance": [],
      "toc_visible": true
    },
    "kernelspec": {
      "name": "python3",
      "display_name": "Python 3"
    },
    "language_info": {
      "name": "python"
    }
  },
  "cells": [
    {
      "cell_type": "markdown",
      "metadata": {
        "id": "no0GH763FFX0"
      },
      "source": [
        "## Тема 4"
      ]
    },
    {
      "cell_type": "markdown",
      "metadata": {
        "id": "ckqMwZLdFJrJ"
      },
      "source": [
        "### Задача A. Толя-Карп и новый набор структур, часть 2"
      ]
    },
    {
      "cell_type": "markdown",
      "metadata": {
        "id": "f-glcqZcFQB7"
      },
      "source": [
        "Толя-Карп запросил для себя *n* посылок с «Аллигатор-экспресс».\n",
        "  \n",
        "Посылка представляет из себя ящик. Внутри ящика лежит целое число *a`i`*. Номер на ящике *d`i`* указывает на цвет числа, лежащего внутри.\n",
        "  \n",
        "Толю-Карпа интересует, чему будут равны значения чисел, если сложить между собой все те, что имеют одинаковый цвет. Напишите, пожалуйста, программу, которая выводит результат."
      ]
    },
    {
      "cell_type": "markdown",
      "metadata": {
        "id": "x4aOz8pV_1W0"
      },
      "source": [
        "**Формат ввода**  \n",
        "В первой строке одно число *n (0 ≤ n ≤ 2x10`5`)*.\n",
        "\n",
        "В следующих n строках заданы по два числа: цвет числа в ящике di и значение числа *ai (-10`18` ≤ di, ai ≤ 10`18`)*.\n",
        "\n",
        "Гарантируется, что сумма чисел одного цвета не превышает *10`18`*"
      ]
    },
    {
      "cell_type": "markdown",
      "metadata": {
        "id": "Cpkv4zBTF61u"
      },
      "source": [
        "**Формат вывода**  \n",
        "Выведите в порядке возрастания номера цвета пары чисел, каждая в новой строке: номер цвета и сумму всех чисел данного цвета."
      ]
    },
    {
      "cell_type": "markdown",
      "metadata": {
        "id": "L9hE7whFAPzS"
      },
      "source": [
        "**Пример 1**  \n",
        "  \n",
        "**`Ввод`**\t\n",
        "7  \n",
        "1 5  \n",
        "10 -5  \n",
        "1 10  \n",
        "4 -2  \n",
        "4 3  \n",
        "4 1  \n",
        "4 0  \n",
        "  \n",
        "**`Вывод`**    \n",
        "1 15  \n",
        "4 2  \n",
        "10 -5  "
      ]
    },
    {
      "cell_type": "markdown",
      "metadata": {
        "id": "-xX-2UXXAl1p"
      },
      "source": [
        "**Пример 2**  \n",
        "  \n",
        "**`Ввод`**\t\n",
        "5  \n",
        "5 -10000  \n",
        "-5 100000000000  \n",
        "10 2000000000000  \n",
        "-5 -300000000000  \n",
        "0 10000000000000  \n",
        "  \n",
        "**`Вывод`**  \n",
        "-5 -200000000000  \n",
        "0 10000000000000  \n",
        "5 -10000  \n",
        "10 2000000000000  "
      ]
    },
    {
      "cell_type": "code",
      "metadata": {
        "id": "pHbGQ6gQFQUe",
        "colab": {
          "base_uri": "https://localhost:8080/"
        },
        "outputId": "c5645b28-6496-4234-e7ad-e9da7286a790"
      },
      "source": [
        "n =  int(input())\n",
        "s = {}\n",
        "\n",
        "for _ in range(n):\n",
        "  d, a = list(map(int, input().split()))\n",
        "  if d not in s:\n",
        "    s[d] = 0\n",
        "  s[d] += a  \n",
        "\n",
        "print()  \n",
        "sorts = sorted(s)\n",
        "\n",
        "for k in sorts:\n",
        "  print(k,s[k])\n"
      ],
      "execution_count": null,
      "outputs": [
        {
          "output_type": "stream",
          "name": "stdout",
          "text": [
            "7\n",
            "1 5\n",
            "10 -5\n",
            "1 10\n",
            "4 -2\n",
            "4 3\n",
            "4 1\n",
            "4 0\n",
            "\n",
            "1 15\n",
            "4 2\n",
            "10 -5\n"
          ]
        }
      ]
    },
    {
      "cell_type": "markdown",
      "metadata": {
        "id": "HA1ZMaLAAx3j"
      },
      "source": [
        "---"
      ]
    },
    {
      "cell_type": "markdown",
      "metadata": {
        "id": "cXFN--xvAysF"
      },
      "source": [
        "### Задача B. Выборы в США"
      ]
    },
    {
      "cell_type": "markdown",
      "metadata": {
        "id": "Sjr3jVNdHEv7"
      },
      "source": [
        "Как известно, в США президент выбирается не прямым голосованием, а путем двухуровневого голосования. Сначала проводятся выборы в каждом штате и определяется победитель выборов в данном штате. Затем проводятся государственные выборы: на этих выборах каждый штат имеет определенное число голосов — число выборщиков от этого штата. На практике, все выборщики от штата голосуют в соответствии с результами голосования внутри штата, то есть на заключительной стадии выборов в голосовании участвуют штаты, имеющие различное число голосов. Вам известно за кого проголосовал каждый штат и сколько голосов было отдано данным штатом. Подведите итоги выборов: для каждого из участника голосования определите число отданных за него голосов."
      ]
    },
    {
      "cell_type": "markdown",
      "metadata": {
        "id": "tr-WxUOiHFMf"
      },
      "source": [
        "**Формат ввода**  \n",
        "Каждая строка входного файла содержит фамилию кандидата, за которого отдают голоса выборщики этого штата, затем через пробел идет количество выборщиков, отдавших голоса за этого кандидата.\n",
        "\n",
        "**Формат вывода**  \n",
        "Выведите фамилии всех кандидатов в лексикографическом порядке, затем, через пробел, количество отданных за них голосов."
      ]
    },
    {
      "cell_type": "markdown",
      "metadata": {
        "id": "Hm22DNNSJr4u"
      },
      "source": [
        "**Пример 1**  \n",
        "  \n",
        "**`Ввод`**\t\n",
        "McCain 10  \n",
        "McCain 5  \n",
        "Obama 9  \n",
        "Obama 8  \n",
        "McCain 1  \n",
        "  \n",
        "**`Вывод`**    \n",
        "McCain 16  \n",
        "Obama 17  "
      ]
    },
    {
      "cell_type": "code",
      "metadata": {
        "id": "5GIO8ycQFQba",
        "colab": {
          "base_uri": "https://localhost:8080/"
        },
        "outputId": "8b59702a-5553-46a8-e2e5-3e011859fc98"
      },
      "source": [
        "s = {}\n",
        "\n",
        "while True:\n",
        "  try:\n",
        "    family, num = input().split()\n",
        "    if family not in s:\n",
        "      s[family] = 0\n",
        "    s[family] += int(num)\n",
        "  except:\n",
        "    break\n",
        "\n",
        "sorts = sorted(s.keys())\n",
        "\n",
        "for k in sorts:\n",
        "  print(k, s[k])       \n"
      ],
      "execution_count": null,
      "outputs": [
        {
          "output_type": "stream",
          "name": "stdout",
          "text": [
            "McCain 10\n",
            "McCain 5\n",
            "Obama 9\n",
            "Obama 8\n",
            "McCain 1\n",
            "\n",
            "McCain 16\n",
            "Obama 17\n"
          ]
        }
      ]
    },
    {
      "cell_type": "markdown",
      "metadata": {
        "id": "dczRLzb5FQnk"
      },
      "source": [
        "---"
      ]
    },
    {
      "cell_type": "markdown",
      "metadata": {
        "id": "8tbaQ1wUNzoj"
      },
      "source": [
        "### Задача C. Частотный анализ"
      ]
    },
    {
      "cell_type": "markdown",
      "metadata": {
        "id": "nK2j1rsNN4Mh"
      },
      "source": [
        "Дан текст. Выведите все слова, встречающиеся в тексте, по одному на каждую строку. Слова должны быть отсортированы по убыванию их количества появления в тексте, а при одинаковой частоте появления — в лексикографическом порядке. Указание. После того, как вы создадите словарь всех слов, вам захочется отсортировать его по частоте встречаемости слова. Желаемого можно добиться, если создать список, элементами которого будут кортежи из двух элементов: частота встречаемости слова и само слово. Например, [(2, 'hi'), (1, 'what'), (3, 'is')]. Тогда стандартная сортировка будет сортировать список кортежей, при этом кортежи сравниваются по первому элементу, а если они равны — то по второму. Это почти то, что требуется в задаче."
      ]
    },
    {
      "cell_type": "markdown",
      "metadata": {
        "id": "7fC6lnchOMup"
      },
      "source": [
        "**Формат ввода**  \n",
        "Вводится текст.\n",
        "  \n",
        "**Формат вывода**  \n",
        "Выведите ответ на задачу."
      ]
    },
    {
      "cell_type": "markdown",
      "metadata": {
        "id": "lHrD1XiUOSp8"
      },
      "source": [
        "**Пример 1**  \n",
        "  \n",
        "**`Ввод`**\t\n",
        "hi  \n",
        "hi  \n",
        "what is your name  \n",
        "my name is bond  \n",
        "james bond  \n",
        "my name is damme  \n",
        "van damme  \n",
        "claude van damme  \n",
        "jean claude van damme   \n",
        "  \n",
        "**`Вывод`**    \n",
        "damme  \n",
        "is  \n",
        "name  \n",
        "van  \n",
        "bond  \n",
        "claude  \n",
        "hi  \n",
        "my  \n",
        "james  \n",
        "jean  \n",
        "what  \n",
        "your  "
      ]
    },
    {
      "cell_type": "code",
      "metadata": {
        "colab": {
          "base_uri": "https://localhost:8080/"
        },
        "id": "sGdeXsBdQo6Q",
        "outputId": "da4886e7-8176-4a4a-bb9e-71103c22f193"
      },
      "source": [
        "s = {}\n",
        "\n",
        "with open('input.txt', 'r', encoding='utf8') as file:\n",
        "  for line in file:\n",
        "    words = line.split()\n",
        "    for w in words:\n",
        "      s[w] = s.get(w, 0) + 1\n",
        "\n",
        "ans = []\n",
        "for k in s:\n",
        "  ans.append((-s[k], k))\n",
        "\n",
        "ans.sort()   \n",
        "\n",
        "for i, j in ans:\n",
        "  print(j)\n",
        "  "
      ],
      "execution_count": null,
      "outputs": [
        {
          "output_type": "stream",
          "name": "stdout",
          "text": [
            "hi\n",
            "hi\n",
            "what is your name\n",
            "my name is bond\n",
            "james bond my name is damme\n",
            "van damme\n",
            "claude van damme jean claude van damme\n",
            "\n",
            "damme\n",
            "is\n",
            "name\n",
            "van\n",
            "bond\n",
            "claude\n",
            "hi\n",
            "my\n",
            "james\n",
            "jean\n",
            "what\n",
            "your\n"
          ]
        }
      ]
    },
    {
      "cell_type": "markdown",
      "metadata": {
        "id": "YpWL2-qNOiQs"
      },
      "source": [
        "---"
      ]
    },
    {
      "cell_type": "markdown",
      "metadata": {
        "id": "tLnJJTdubjNu"
      },
      "source": [
        "### Задача D. Выборы Государственной Думы"
      ]
    },
    {
      "cell_type": "markdown",
      "metadata": {
        "id": "X1j9kT-WbjQf"
      },
      "source": [
        "Статья 83 закона “О выборах депутатов Государственной Думы Федерального Собрания Российской Федерации” определяет следующий алгоритм пропорционального распределения мест в парламенте.\n",
        "\n",
        "Необходимо распределить 450 мест между партиями, участвовавших в выборах. Сначала подсчитывается сумма голосов избирателей, поданных за каждую партию и подсчитывается сумма голосов, поданных за все партии. Эта сумма делится на 450, получается величина, называемая “первое избирательное частное” (смысл первого избирательного частного - это количество голосов избирателей, которое необходимо набрать для получения одного места в парламенте).\n",
        "\n",
        "Далее каждая партия получает столько мест в парламенте, чему равна целая часть от деления числа голосов за данную партию на первое избирательное частное.\n",
        "\n",
        "Если после первого раунда распределения мест сумма количества мест, отданных партиям, меньше 450, то оставшиеся места передаются по одному партиям, **в порядке убывания дробной части частного от деления числа голосов за данную партию на первое избирательное частное.** Если же для двух партий эти дробные части равны, то преимущество отдается той партии, которая получила большее число голосов."
      ]
    },
    {
      "cell_type": "markdown",
      "metadata": {
        "id": "AT-kFOlVcwVX"
      },
      "source": [
        "**Формат ввода**  \n",
        "На вход программе подается список партий, участвовавших в выборах. Каждая строка входного файла содержит название партии (строка, возможно, содержащая пробелы), затем, через пробел, количество голосов, полученных данной партией – число, не превосходящее *10`8`*."
      ]
    },
    {
      "cell_type": "markdown",
      "metadata": {
        "id": "MKIv29n1cz2Z"
      },
      "source": [
        "**Формат вывода**  \n",
        "Программа должна вывести названия всех партий и количество голосов в парламенте, полученных данной партией. Названия необходимо выводить в том же порядке, в котором они шли во входных данных."
      ]
    },
    {
      "cell_type": "markdown",
      "metadata": {
        "id": "_cbQkaInbjUy"
      },
      "source": [
        "**Пример 1**  \n",
        "  \n",
        "**`Ввод`**\t \n",
        "Party One 100000  \n",
        "Party Two 200000  \n",
        "Party Three 400000  \n",
        "  \n",
        "**`Вывод`**  \n",
        "Party One 64  \n",
        "Party Two 129  \n",
        "Party Three 257  "
      ]
    },
    {
      "cell_type": "code",
      "metadata": {
        "colab": {
          "base_uri": "https://localhost:8080/"
        },
        "id": "Db66xYj0oOKV",
        "outputId": "a0f8c6ea-c7d6-440e-e8b9-00351386ab52"
      },
      "source": [
        "list_party = []\n",
        "index = 1\n",
        "\n",
        "with open('/content/drive/MyDrive/Data/input.txt', 'r', encoding='utf') as file:\n",
        "  for f in file:\n",
        "    line = f.split()\n",
        "    party = ' '.join(line[:-1])\n",
        "    num = int(line[-1])\n",
        "    list_party.append([party, index, num])\n",
        "    index += 1\n",
        "\n",
        "total_voice = 0\n",
        "for party in list_party:\n",
        "  total_voice += party[2]\n",
        "\n",
        "deputy = 450\n",
        "first_electoral_quotient = total_voice / deputy\n",
        "\n",
        "for i in range(len(list_party)):\n",
        "  list_party[i].append(int(list_party[i][2] // first_electoral_quotient))\n",
        "  list_party[i].append(list_party[i][2] % first_electoral_quotient)\n",
        "\n",
        "sum_mandate = 0\n",
        "for i in range(len(list_party)):\n",
        "  sum_mandate += list_party[i][3]\n",
        "\n",
        "if sum_mandate == 450:\n",
        "  for party in list_party:\n",
        "    print(party[0], party[3])\n",
        "\n",
        "else:\n",
        "  count = deputy - sum_mandate\n",
        "  list_party = sorted(list_party, key=lambda x: x[4], reverse=True)\n",
        "\n",
        "  for i in range(len(list_party)):\n",
        "    list_party[i][3] += 1\n",
        "    count -= 1\n",
        "    if count == 0:\n",
        "      break\n",
        "\n",
        "  list_party = sorted(list_party, key=lambda x: x[1])    \n",
        "  for party in list_party:\n",
        "    print(party[0], party[3])"
      ],
      "execution_count": null,
      "outputs": [
        {
          "output_type": "stream",
          "name": "stdout",
          "text": [
            "Party One 64\n",
            "Party Two 129\n",
            "Party Three 257\n"
          ]
        }
      ]
    },
    {
      "cell_type": "markdown",
      "metadata": {
        "id": "WeCIDU-7c43N"
      },
      "source": [
        "---"
      ]
    },
    {
      "cell_type": "markdown",
      "metadata": {
        "id": "BlqloWmurOE_"
      },
      "source": [
        "### Задача E. Форум"
      ]
    },
    {
      "cell_type": "markdown",
      "metadata": {
        "id": "38p2iuNyrPM2"
      },
      "source": [
        "Клуб Юных Хакеров организовал на своем сайте форум. Форум имеет следующую структуру: каждое сообщение либо начинает новую тему, либо является ответом на какое-либо предыдущее сообщение и принадлежит той же теме.\n",
        "\n",
        "После нескольких месяцев использования своего форума юных хакеров заинтересовал вопрос - какая тема на их форуме наиболее популярна. Помогите им выяснить это."
      ]
    },
    {
      "cell_type": "markdown",
      "metadata": {
        "id": "R47q0M5frR26"
      },
      "source": [
        "**Формат ввода**  \n",
        "В первой строке вводится целое число N - количество сообщений в форуме (1 <= N <= 1000). Следующие строки содержат описание сообщений в хронологическом порядке.\n",
        "\n",
        "Описание сообщения, которое представляет собой начало новой темы, состоит из трех строк. Первая строка содержит число 0. Вторая строка содержит название темы. Длина названия не превышает 30 символов. Третья строка содержит текст сообщения.\n",
        "\n",
        "Описание сообщения, которое является ответом на другое сообщение, состоит из двух строк. Первая строка содержит целое число - номер сообщения, ответом на которое оно является. Сообщения нумеруются, начиная с единицы. Ответ всегда появляется позже, чем сообщение, ответом на которое он является. Вторая строка содержит текст сообщения.\n",
        "\n",
        "Длина каждого из сообщений не превышает 100 символов.\n",
        "\n",
        "**Формат вывода**  \n",
        "Выведите название темы, к которой относится наибольшее количество сообщений. Если таких тем несколько, то выведите первую в хронологическом порядке"
      ]
    },
    {
      "cell_type": "markdown",
      "metadata": {
        "id": "94viwR_erbVG"
      },
      "source": [
        "**Пример 1**  \n",
        "  \n",
        "**`Ввод`**  \n",
        "7  \n",
        "0  \n",
        "Олимпиада по информатике  \n",
        "Скоро третья командная олимпиада?  \n",
        "0  \n",
        "Новая компьютерная игра  \n",
        "Вышла новая крутая игра!  \n",
        "1  \n",
        "Она пройдет 24 ноября  \n",
        "1  \n",
        "В Санкт-Петербурге и Барнауле  \n",
        "2  \n",
        "Где найти?  \n",
        "4  \n",
        "Примет участие более 50 команд  \n",
        "6  \n",
        "Интересно, какие будут задачи  \n",
        "  \n",
        "**`Вывод`**  \n",
        "Олимпиада по информатике"
      ]
    },
    {
      "cell_type": "code",
      "metadata": {
        "id": "KAI1BLlXsZxO",
        "colab": {
          "base_uri": "https://localhost:8080/"
        },
        "outputId": "519c9f4f-ac94-4d10-bc58-7f0be019bf65"
      },
      "source": [
        "n = int(input())\n",
        "tema_dict = {}\n",
        "text_dict = {}\n",
        "\n",
        "for i in range(1,n+1):\n",
        "  num = int(input())\n",
        "  if num == 0:\n",
        "    title_tema = str(i) + ' ' + input()\n",
        "    text = input()\n",
        "    tema_dict[title_tema] = 1\n",
        "    text_dict[i] = title_tema\n",
        "  else:\n",
        "    text = input()\n",
        "    title_tema = text_dict[num]\n",
        "    text_dict[i] = title_tema\n",
        "    tema_dict[title_tema] += 1\n",
        "\n",
        "maxval = 0\n",
        "for k in tema_dict:\n",
        "  if tema_dict[k] > maxval:\n",
        "    maxval = tema_dict[k]\n",
        "\n",
        "result = []\n",
        "for k in tema_dict:\n",
        "  if tema_dict[k] == maxval:  \n",
        "    result.append(k.split())\n",
        "\n",
        "print()\n",
        "if len(result) == 1:\n",
        "  print(' '.join(result[0][1:]))\n",
        "else:\n",
        "  x = sorted(result, key=lambda x: int(x[0])) \n",
        "  print(' '.join(x[0][1:]))     \n",
        "\n"
      ],
      "execution_count": null,
      "outputs": [
        {
          "output_type": "stream",
          "name": "stdout",
          "text": [
            "7\n",
            "0\n",
            "Олимпиада по информатике\n",
            "Скоро третья командная олимпиада?\n",
            "0\n",
            "Новая компьютерная игра\n",
            "Вышла новая крутая игра!\n",
            "1\n",
            "Она пройдет 24 ноября\n",
            "1\n",
            "В Санкт-Петербурге и Барнауле\n",
            "2\n",
            "Где найти?\n",
            "4\n",
            "Примет участие более 50 команд\n",
            "6\n",
            "Интересно, какие будут задачи\n",
            "\n",
            "Олимпиада по информатике\n"
          ]
        }
      ]
    },
    {
      "cell_type": "markdown",
      "metadata": {
        "id": "lj-ySZacsaHT"
      },
      "source": [
        "---"
      ]
    }
  ]
}