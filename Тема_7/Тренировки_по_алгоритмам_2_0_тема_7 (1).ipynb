{
  "nbformat": 4,
  "nbformat_minor": 0,
  "metadata": {
    "colab": {
      "name": "Тренировки_по_алгоритмам_2_0_тема_7.ipynb",
      "provenance": [],
      "collapsed_sections": [],
      "toc_visible": true
    },
    "kernelspec": {
      "name": "python3",
      "display_name": "Python 3"
    },
    "language_info": {
      "name": "python"
    }
  },
  "cells": [
    {
      "cell_type": "markdown",
      "metadata": {
        "id": "Nm8BcQJ1087a"
      },
      "source": [
        "## Тема 7"
      ]
    },
    {
      "cell_type": "markdown",
      "metadata": {
        "id": "K9YPAuDneuRG"
      },
      "source": [
        "### Задача A. Закраска прямой"
      ]
    },
    {
      "cell_type": "markdown",
      "metadata": {
        "id": "tJD5J8QKeztD"
      },
      "source": [
        "На числовой прямой окрасили **N** отрезков. Известны координаты левого и правого концов каждого отрезка (*Li* и *Ri*). Найти длину окрашенной части числовой прямой."
      ]
    },
    {
      "cell_type": "markdown",
      "metadata": {
        "id": "lcuLVcxRfTEX"
      },
      "source": [
        "**Формат ввода**  \n",
        "В первой строке находится число N, в следующих N строках - пары Li и Ri. Li и Ri - целые, -10`9` ≤ Li ≤ Ri ≤ 10`9`, 1 ≤ N ≤ 15 000"
      ]
    },
    {
      "cell_type": "markdown",
      "metadata": {
        "id": "ffo98A5ofzQ2"
      },
      "source": [
        "**Формат вывода**  \n",
        "Вывести одно число - длину окрашенной части прямой."
      ]
    },
    {
      "cell_type": "markdown",
      "metadata": {
        "id": "l5iCjSH7f2y5"
      },
      "source": [
        "**Пример 1**  \n",
        "**`Ввод`**\t\n",
        "1  \n",
        "10 20  \n",
        "\n",
        "**`Вывод`**  \n",
        "10"
      ]
    },
    {
      "cell_type": "code",
      "metadata": {
        "colab": {
          "base_uri": "https://localhost:8080/"
        },
        "id": "MOMGK7dbez3d",
        "outputId": "4fcf6412-11ae-4fed-9482-98c520d1318d"
      },
      "source": [
        "n = int(input())\n",
        "\n",
        "line = []\n",
        "for i in range(n):\n",
        "  l, r = map(int, input().split())\n",
        "  line.append((l,-1))\n",
        "  line.append((r,1))\n",
        "\n",
        "line.sort()\n",
        "\n",
        "online = 0\n",
        "distance = 0\n",
        "dl = 0\n",
        "dr = 0\n",
        "\n",
        "for i in range(len(line)):\n",
        "  if line[i][1] == -1 and online == 0:\n",
        "    dl = line[i][0]\n",
        "    online += 1\n",
        "  elif line[i][1] == -1:\n",
        "    online += 1\n",
        "  elif line[i][1] == 1:\n",
        "    online -= 1\n",
        "    if online == 0:\n",
        "      dr = line[i][0] \n",
        "      distance += dr - dl\n",
        "  \n",
        "print()\n",
        "print(distance)\n"
      ],
      "execution_count": null,
      "outputs": [
        {
          "output_type": "stream",
          "name": "stdout",
          "text": [
            "5\n",
            "10 20\n",
            "10 10\n",
            "20 40\n",
            "30 50\n",
            "100 110\n",
            "\n",
            "50\n"
          ]
        }
      ]
    },
    {
      "cell_type": "markdown",
      "metadata": {
        "id": "Refa-MgQe0B2"
      },
      "source": [
        "---"
      ]
    },
    {
      "cell_type": "markdown",
      "metadata": {
        "id": "QLhLTasKe03K"
      },
      "source": [
        "###  Задача B. Таможня"
      ]
    },
    {
      "cell_type": "markdown",
      "metadata": {
        "id": "DU4TOIk1reRT"
      },
      "source": [
        "Идёт 2163 год. Мишу, который работает в отделении таможни при космодроме города Нью-Питер, вызвал в кабинет шеф.\n",
        "\n",
        "Как оказалось, недавно Министерство Налогов и Сборов выделило отделению определённую сумму денег на установку новых аппаратов для автоматического досмотра грузов. Естественно, средства были выделены с таким расчётом, чтобы грузы теперь находились на таможне ровно столько времени, сколько требуется непосредственно на их досмотр.\n",
        "\n",
        "В руках шефа каким-то образом оказались сведения о надвигающейся ревизии – список из N грузов, которые будут контролироваться Министерством. Для каждого груза известны время его прибытия, отсчитываемое с некоторого момента, хранимого в большом секрете, и время, требуемое аппарату для обработки этого груза. Шеф дал Мише задание по этим данным определить, какое минимальное количество аппаратов необходимо заказать на заводе, чтобы все грузы Министерства начинали досматриваться сразу после прибытия. Необходимо учесть, что конструкция тех аппаратов, которые было решено установить, не позволяет обрабатывать два груза одновременно на одном аппарате. Напишите программу, которая поможет Мише справиться с его задачей."
      ]
    },
    {
      "cell_type": "markdown",
      "metadata": {
        "id": "C4PC_rIorgtV"
      },
      "source": [
        "**Формат ввода**  \n",
        "На первой строке входного файла задано число N (0 ≤ N ≤ 50 000).  \n",
        "На следующих N строках находится по 2 целых положительных числа *Ti* и *Li* – время прибытия соответствующего груза и время, требуемое для его обработки (1 ≤ Ti ≤ 10`6`, 1 ≤ Li ≤ 10`6`)."
      ]
    },
    {
      "cell_type": "markdown",
      "metadata": {
        "id": "stNFpn_ge2nq"
      },
      "source": [
        "**Формат вывода**  \n",
        "В выходной файл выведите одно число – наименьшее количество аппаратов, которое нужно установить, чтобы не вызвать подозрений у Министерства."
      ]
    },
    {
      "cell_type": "markdown",
      "metadata": {
        "id": "m379eYGlr4R1"
      },
      "source": [
        "**Пример 1**  \n",
        "**`Ввод`**\t\n",
        "3  \n",
        "3 2  \n",
        "4 2  \n",
        "5 2  \n",
        "**`Вывод`**  \n",
        "2  "
      ]
    },
    {
      "cell_type": "code",
      "metadata": {
        "colab": {
          "base_uri": "https://localhost:8080/"
        },
        "id": "EMkixnHqe20-",
        "outputId": "ed80f4ab-92c9-4f98-8d79-ffa7f4e06c81"
      },
      "source": [
        "n = int(input())\n",
        "nums = []\n",
        "\n",
        "for _ in range(n):\n",
        "  t, l = map(int, input().split())\n",
        "  nums.append((t, 1))\n",
        "  nums.append((t + l, -1))\n",
        "\n",
        "nums.sort()\n",
        "\n",
        "maxcnt = 0\n",
        "onlicnt = 0\n",
        "for i in range(len(nums)):\n",
        "  if nums[i][1] == 1:\n",
        "    onlicnt += 1\n",
        "  elif nums[i][1] == -1:\n",
        "    onlicnt -= 1\n",
        "  if maxcnt < onlicnt:\n",
        "    maxcnt = onlicnt\n",
        "\n",
        "print()\n",
        "print(maxcnt)\n"
      ],
      "execution_count": null,
      "outputs": [
        {
          "output_type": "stream",
          "name": "stdout",
          "text": [
            "3\n",
            "3 2\n",
            "4 2\n",
            "5 2\n",
            "\n",
            "2\n"
          ]
        }
      ]
    },
    {
      "cell_type": "markdown",
      "metadata": {
        "id": "ZUvC1AVee2-o"
      },
      "source": [
        "---"
      ]
    },
    {
      "cell_type": "markdown",
      "metadata": {
        "id": "0SYeMGwde3iy"
      },
      "source": [
        "###  Задача C. Минимальное покрытие"
      ]
    },
    {
      "cell_type": "markdown",
      "metadata": {
        "id": "GaJYMu_le7NN"
      },
      "source": [
        "На прямой задано некоторое множество отрезков с целочисленными координатами концов [L*i*, Ri].  \n",
        "Выберите среди данного множества подмножество отрезков, целиком покрывающее отрезок [0, M], (M — натуральное число), содержащее наименьшее число отрезков."
      ]
    },
    {
      "cell_type": "markdown",
      "metadata": {
        "id": "dhVA7z7lVknZ"
      },
      "source": [
        "**Формат ввода**  \n",
        "В первой строке указана константа M (1 ≤ M ≤ 5000).  \n",
        "В каждой последующей строке записана пара чисел Li и Ri (Li, Ri ≤ 50000), задающая координаты левого и правого концов отрезков.  \n",
        "Список завершается парой нулей.  \n",
        "Общее число отрезков не превышает 100 000."
      ]
    },
    {
      "cell_type": "markdown",
      "metadata": {
        "id": "bEw9w3l4V-s0"
      },
      "source": [
        "**Формат вывода**  \n",
        "В первой строке выходного файла выведите минимальное число отрезков, необходимое для покрытия отрезка [0; M].  \n",
        "Далее выведите список покрывающего подмножества, упорядоченный по возрастанию координат левых концов отрезков.  \n",
        "Список отрезков выводится в том же формате, что и во входe.  \n",
        "Завершающие два нуля выводить не нужно.  \n",
        "Если покрытие отрезка [0, M] исходным множеством отрезков [Li, Ri] невозможно, то следует вывести единственную фразу “No solution”."
      ]
    },
    {
      "cell_type": "markdown",
      "metadata": {
        "id": "lsfyR7DYWM_4"
      },
      "source": [
        "**Пример 1**  \n",
        "**`Ввод`**\t\n",
        "1  \n",
        "-1 0  \n",
        "-5 -3  \n",
        "2 5  \n",
        "0 0  \n",
        "\n",
        "**`Вывод`**  \n",
        "No solution\n"
      ]
    },
    {
      "cell_type": "markdown",
      "metadata": {
        "id": "RhdpjASEWb81"
      },
      "source": [
        "**Пример 2**  \n",
        "**`Ввод`**\t\n",
        "1  \n",
        "-1 0  \n",
        "0 1  \n",
        "0 0  \n",
        "\n",
        "**`Вывод`**  \n",
        "1  \n",
        "0 1  "
      ]
    },
    {
      "cell_type": "code",
      "metadata": {
        "colab": {
          "base_uri": "https://localhost:8080/"
        },
        "id": "KKw1awg0WjNr",
        "outputId": "53c6b02c-5d69-436b-cdb6-b3a764e03b3b"
      },
      "source": [
        "m = int(input())\n",
        "\n",
        "events = []\n",
        "\n",
        "LINE_START = -1\n",
        "LINE_END = 1\n",
        "BREAKPOINT = 0\n",
        "\n",
        "should_continue = True\n",
        "lines = []\n",
        "i = 0\n",
        "\n",
        "while should_continue:\n",
        "    ll, rr = map(int, input().split())\n",
        "    if ll == rr == 0:\n",
        "        should_continue = False\n",
        "    else:\n",
        "        events.append((ll, LINE_START, i))\n",
        "        events.append((rr, LINE_END, i))\n",
        "        lines.append((ll, rr))\n",
        "        i += 1\n",
        "\n",
        "events.append((0, BREAKPOINT, -1))\n",
        "events.append((m, BREAKPOINT, -1))\n",
        "events.sort()\n",
        "\n",
        "def add_appropriate():\n",
        "    global next_coord, selected_lines\n",
        "\n",
        "    if not current_lines:\n",
        "        selected_lines = set()\n",
        "        return False\n",
        "\n",
        "    sorted_current = sorted(current_lines, key=lambda x: x[1], reverse=True)\n",
        "    appropriate_one = sorted_current[0]\n",
        "    selected_lines.add(appropriate_one)\n",
        "    next_coord = appropriate_one[1]\n",
        "\n",
        "    if next_coord >= m:\n",
        "        return False\n",
        "\n",
        "    return True\n",
        "\n",
        "\n",
        "for event in events:\n",
        "    coord, event_type, line_index = event\n",
        "    line = lines[line_index]\n",
        "\n",
        "    if event_type == LINE_START:\n",
        "        current_lines.add(line)\n",
        "\n",
        "    elif event_type == LINE_END:\n",
        "        if line in current_lines:\n",
        "            current_lines.remove(line)\n",
        "        if coord == next_coord:\n",
        "            if not add_appropriate():\n",
        "                break\n",
        "\n",
        "    else:\n",
        "        if coord == 0:\n",
        "            if not add_appropriate():\n",
        "                break\n",
        "        else:\n",
        "            if not current_lines:\n",
        "                selected_lines = set()\n",
        "            break\n",
        "\n",
        "if not selected_lines:\n",
        "    print(\"No solution\")\n",
        "else:\n",
        "    print(len(selected_lines))\n",
        "    print('\\n'.join([f\"{ll} {rr}\" for ll, rr in sorted(list(selected_lines))]))\n",
        "    "
      ],
      "execution_count": null,
      "outputs": [
        {
          "output_type": "stream",
          "name": "stdout",
          "text": [
            "1\n",
            "-1 0\n",
            "-5 -3\n",
            "2 5\n",
            "0 0\n",
            "No solution\n"
          ]
        }
      ]
    },
    {
      "cell_type": "markdown",
      "metadata": {
        "id": "fST22msYe7tK"
      },
      "source": [
        "---"
      ]
    },
    {
      "cell_type": "markdown",
      "metadata": {
        "id": "m1y32opke8Um"
      },
      "source": [
        "###  Задача D. Наполненность котятами"
      ]
    },
    {
      "cell_type": "markdown",
      "metadata": {
        "id": "0YNQLrrKe-HX"
      },
      "source": [
        "На прямой в точках \n",
        "a1\n",
        ",\n",
        "a2\n",
        ",\n",
        "…\n",
        ",\n",
        "an\n",
        " (возможно, совпадающих) сидят \n",
        "n\n",
        " котят.  \n",
        "На той же прямой лежат \n",
        "m\n",
        " отрезков \n",
        "[\n",
        "l1\n",
        ",\n",
        "r1\n",
        "]\n",
        ",\n",
        "[\n",
        "l2\n",
        ",\n",
        "r2\n",
        "]\n",
        ",\n",
        "…\n",
        ",\n",
        "[\n",
        "lm\n",
        ",\n",
        "rm\n",
        "]\n",
        ".  \n",
        "Нужно для каждого отрезка узнать его наполненность котятами — сколько котят сидит на отрезке."
      ]
    },
    {
      "cell_type": "markdown",
      "metadata": {
        "id": "kQZqLoBHilV_"
      },
      "source": [
        "**Формат ввода**  \n",
        "На первой строке \n",
        "**n**\n",
        " и \n",
        "**m**\n",
        " (\n",
        "1\n",
        "≤\n",
        "n\n",
        ",\n",
        "m\n",
        "≤\n",
        "1\n",
        "0\n",
        "`5`\n",
        ").  \n",
        "На второй строке \n",
        "n\n",
        " целых чисел \n",
        "**ai** \n",
        " (\n",
        "0\n",
        "≤\n",
        "ai\n",
        "≤\n",
        "1\n",
        "0\n",
        "`9`\n",
        ").  \n",
        "Следующие \n",
        "m\n",
        " строк содержат пары целых чисел \n",
        "**li**\n",
        ",\n",
        "**ri**\n",
        " (\n",
        "0\n",
        "≤\n",
        "li\n",
        "≤\n",
        "ri\n",
        "≤\n",
        "1\n",
        "0\n",
        "`9`\n",
        ")."
      ]
    },
    {
      "cell_type": "markdown",
      "metadata": {
        "id": "yHIuWpj8i_fz"
      },
      "source": [
        "**Формат вывода**  \n",
        "Выведите \n",
        "m\n",
        " целых чисел. \n",
        "i\n",
        "-е число — наполненность котятами \n",
        "i\n",
        "-го отрезка."
      ]
    },
    {
      "cell_type": "code",
      "metadata": {
        "id": "peAhLmw_j-7Y"
      },
      "source": [
        "n, m = map(int, input().split())\n",
        "kittens = [int(num) for num in input().split()]\n",
        "\n",
        "# (coord, type, line_index)\n",
        "events = [(0, 0, 0)] * (2 * m + n)\n",
        "\n",
        "# (l, r, kitty_count)\n",
        "lines = [[0, 0, 0]] * m\n",
        "\n",
        "i = 0\n",
        "\n",
        "\n",
        "for kitty in kittens:\n",
        "    events[i] = (kitty, 0, -1)\n",
        "    i += 1\n",
        "\n",
        "for j in range(m):\n",
        "    l, r = map(int, input().split())\n",
        "    lines[j] = [l, r, 0]\n",
        "    events[i] = (l, -1, j)\n",
        "    events[i + 1] = (r, 1, j)\n",
        "    i += 2\n",
        "\n",
        "events.sort()\n",
        "kittens_count = 0\n",
        "\n",
        "for event in events:\n",
        "    if event[1] == -1:\n",
        "        lines[event[2]][2] = kittens_count\n",
        "    elif event[1] == 1:\n",
        "        lines[event[2]][2] = kittens_count - lines[event[2]][2]\n",
        "    else:\n",
        "        kittens_count += 1\n",
        "\n",
        "print(' '.join([str(elem[2]) for elem in lines]))"
      ],
      "execution_count": null,
      "outputs": []
    },
    {
      "cell_type": "markdown",
      "metadata": {
        "id": "xsNeRly1e-fy"
      },
      "source": [
        "---"
      ]
    },
    {
      "cell_type": "markdown",
      "metadata": {
        "id": "Kq22Lhjue_FI"
      },
      "source": [
        "###  Задача E. Полярные прямоугольники"
      ]
    },
    {
      "cell_type": "markdown",
      "metadata": {
        "id": "Sg1pd-qxfAwU"
      },
      "source": [
        "Вася недавно изучил полярную систему координат. А именно, он изучил понятие полярного прямоугольника. Пусть задана стандартная декартова плоскость. Если на ней нарисовать две окружности с центром в начале координат, то область, находящаяся между ними, называется кольцом (на рисунке обозначена синим). Если на ней нарисовать два луча, то область, заметаемая первым лучом при движении ко второму, называется углом (т.е. область между этими двумя лучами, на рисунке обозначена зеленым). Полярным прямоугольником называется пересечение некоторого угла с некоторым кольцом (на рисунке обозначено красным).\n",
        "\n"
      ]
    },
    {
      "cell_type": "markdown",
      "metadata": {
        "id": "FJ2E56frlmW7"
      },
      "source": [
        "![image.png](data:image/png;base64,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)"
      ]
    },
    {
      "cell_type": "markdown",
      "metadata": {
        "id": "rxNXvBb_lo-Q"
      },
      "source": [
        "Задано несколько полярных прямоугольников. Найдите площадь их пересечения. Помните, что пересечение полярных прямоугольников может состоять из нескольких частей!"
      ]
    },
    {
      "cell_type": "markdown",
      "metadata": {
        "id": "LK0cTcMJlrYo"
      },
      "source": [
        "**Формат ввода**  \n",
        "В первой строке вводится целое число N — количество прямоугольников (1 ≤ N ≤ 100 000).  \n",
        "Далее в N строках содержится описание прямоугольников. Каждый прямоугольник описывается четверкой действительных чисел r1, r2, φ1, φ2, где r1, r2 обозначают радиусы окружностей, образующих кольцо (r1 < r2), а φ1, φ2 обозначают углы, образованные первым и вторым лучами с осью абсцисс, заданные в радианах. При этом заметается область от первого луча до второго в направлении против часовой стрелки (т.е. возрастания углов), даже в случае, когда φ1 > φ2.  \n",
        "Все числа заданы максимум с шестью знаками после десятичной точки.  \n",
        "Углы лежат в полуинтервале [0, 2π), а радиусы не превосходят 10`6`.  Гарантируется, что φ1 ≠ φ2."
      ]
    },
    {
      "cell_type": "markdown",
      "metadata": {
        "id": "Iw8qfwJomDi7"
      },
      "source": [
        "**Формат вывода**  \n",
        "Выведите единственное число — площадь искомого пересечения. Ответ будет считаться правильным, если его абсолютная или относительная погрешность не будет превышать 10`-6`."
      ]
    },
    {
      "cell_type": "markdown",
      "metadata": {
        "id": "bcNuXPSwmLKO"
      },
      "source": [
        "**Пример 1**  \n",
        "**`Ввод`**\t\n",
        "2  \n",
        "1  3  0  3  \n",
        "2  4  1.5  4.5  \n",
        "\n",
        "**`Вывод`**  \n",
        "3.7500000000"
      ]
    }
  ]
}